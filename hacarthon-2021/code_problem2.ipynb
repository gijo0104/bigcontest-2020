{
 "cells": [
  {
   "cell_type": "markdown",
   "id": "dc2ffc45-7246-4674-8a22-37ebf715ed1b",
   "metadata": {},
   "source": [
    "- CURRENT_PATH : 가장 상위 폴더를 지정하면 됩니다."
   ]
  },
  {
   "cell_type": "code",
   "execution_count": 2,
   "id": "df28b565-b4bc-411c-988d-9e423c7f375e",
   "metadata": {},
   "outputs": [],
   "source": [
    "import os\n",
    "CURRENT_PATH = os.getcwd()"
   ]
  },
  {
   "cell_type": "markdown",
   "id": "ca8f367f-149d-42e3-ab84-c8e365f8e484",
   "metadata": {},
   "source": [
    "- 라이브러리 import 및 옵션 설정"
   ]
  },
  {
   "cell_type": "code",
   "execution_count": 3,
   "id": "a021bc56-f7b9-4696-9fe8-b03259fdefdd",
   "metadata": {
    "tags": []
   },
   "outputs": [],
   "source": [
    "# 데이터 처리 관련 라이브러리\n",
    "import pandas as pd\n",
    "import numpy as np\n",
    "\n",
    "from IPython.display import display\n",
    "from tqdm import tqdm\n",
    "\n",
    "# 날짜 변수 관련 라이브러리\n",
    "import re\n",
    "from datetime import date\n",
    "from datetime import datetime\n",
    "from datetime import timedelta\n",
    "\n",
    "# plot 관련 라이브러리\n",
    "import matplotlib.pyplot as plt\n",
    "import matplotlib.font_manager as fm\n",
    "%matplotlib inline\n",
    "\n",
    "# Modeling 관련 라이브러리\n",
    "from sklearn.model_selection import train_test_split\n",
    "from sklearn.metrics import roc_curve, roc_auc_score\n",
    "from sklearn.metrics import confusion_matrix, accuracy_score, precision_score, recall_score, f1_score\n",
    "import xgboost as xgb\n",
    "from xgboost import plot_importance\n",
    "\n",
    "# Error 관련 라이브러리\n",
    "import until\n",
    "\n",
    "# 데이터프레임에서 실수값 표시 옵션\n",
    "pd.options.display.float_format = '{:.2f}'.format\n",
    "# pd.reset_option('display.float_format')\n",
    "\n",
    "# plot에 한글 폰트 지정\n",
    "fm.get_fontconfig_fonts()\n",
    "font_path = CURRENT_PATH + '\\\\NanumSquareR.ttf'"
   ]
  },
  {
   "cell_type": "markdown",
   "id": "83117e22-4da4-4732-a8fa-bd7efb7a938d",
   "metadata": {},
   "source": [
    "# 1. 전처리"
   ]
  },
  {
   "cell_type": "markdown",
   "id": "cf97379b-4650-489d-acd8-1e22ac87aa9f",
   "metadata": {
    "tags": []
   },
   "source": [
    "## 0) data read"
   ]
  },
  {
   "cell_type": "code",
   "execution_count": 4,
   "id": "bfc11e58-5320-4076-96d9-c1d9653bd5a3",
   "metadata": {
    "tags": []
   },
   "outputs": [],
   "source": [
    "df_consumer = pd.read_csv( CURRENT_PATH + \"\\\\'21년 해카톤_고객정보.csv\", encoding = 'cp949')\n",
    "df_car = pd.read_csv( CURRENT_PATH + \"\\\\new_해카톤_차량정보.csv\", encoding = 'cp949')\n",
    "df_contact = pd.read_csv( CURRENT_PATH + \"\\\\'21년 해카톤_접촉정보.csv\", encoding = 'cp949')"
   ]
  },
  {
   "cell_type": "markdown",
   "id": "2bfb09cf-99da-4796-9d7e-17dd798b1918",
   "metadata": {},
   "source": [
    "## 1) 고객정보.csv"
   ]
  },
  {
   "cell_type": "markdown",
   "id": "21c1176c-841b-44b2-8227-d8ca079c442c",
   "metadata": {},
   "source": [
    "- 개인사업자 여부(PSN_BIZR_YN) : 결측치를 모두 'N'으로 수정"
   ]
  },
  {
   "cell_type": "code",
   "execution_count": 5,
   "id": "b8e7a3e8-30f9-493e-ae40-921848e198e5",
   "metadata": {},
   "outputs": [],
   "source": [
    "df_consumer.PSN_BIZR_YN.replace(to_replace = np.nan, value = 'N', inplace = True)"
   ]
  },
  {
   "cell_type": "markdown",
   "id": "1c933564-66b7-4def-9072-a08a733bb7d2",
   "metadata": {},
   "source": [
    "- 생년월(TYMD)\n",
    "  - 오류 데이터 결측치 처리 및 제거, 차량정보에서도 해당 고객 제거\n",
    "  - date 타입으로 형 변환"
   ]
  },
  {
   "cell_type": "code",
   "execution_count": 6,
   "id": "55f2693a-a869-4d90-9728-8cbc22af7201",
   "metadata": {},
   "outputs": [],
   "source": [
    "tmp = df_consumer.loc[df_consumer.TYMD > 20640000, 'CUS_ID']\n",
    "df_consumer = df_consumer.loc[df_consumer.TYMD < 20640000]\n",
    "df_consumer.reset_index(drop = True, inplace = True)\n",
    "\n",
    "df_car = df_car.loc[ df_car.CUS_ID.isin(tmp) == False ]\n",
    "df_car.reset_index(drop = True, inplace = True)"
   ]
  },
  {
   "cell_type": "code",
   "execution_count": 7,
   "id": "c2eec4b8-d0e4-4eb8-a549-f2acae366d0b",
   "metadata": {},
   "outputs": [],
   "source": [
    "def from_num_to_datetime(x): # 숫자를 date 타입으로 형 변환하는 함수\n",
    "    x = int(x)\n",
    "    y, m, d = x // 10000, (x//100) % 100, x % 100\n",
    "    return date(year = y, month = m, day = max(d, 1))\n",
    "df_consumer.loc[df_consumer.TYMD.notnull(), 'TYMD'] = df_consumer.loc[df_consumer.TYMD.notnull(), 'TYMD'].map(from_num_to_datetime)"
   ]
  },
  {
   "cell_type": "markdown",
   "id": "d46e87ad-eb1a-4482-b8dd-88efc33819bd",
   "metadata": {},
   "source": [
    "## 2) 차량정보.csv"
   ]
  },
  {
   "cell_type": "markdown",
   "id": "394cadfd-f080-44f3-bc71-afa9c53fc400",
   "metadata": {},
   "source": [
    "- 고객ID, 출고일자에 맞춰 정렬"
   ]
  },
  {
   "cell_type": "code",
   "execution_count": 8,
   "id": "01c8b16b-5415-4bf3-aac5-0a4af1a7d7a9",
   "metadata": {},
   "outputs": [],
   "source": [
    "df_car.sort_values(['CUS_ID', 'WHOT_DT'], inplace = True)\n",
    "df_car.reset_index(drop = True, inplace = True)"
   ]
  },
  {
   "cell_type": "markdown",
   "id": "6a79bca2-b069-412b-894e-8b08b4ce75f9",
   "metadata": {},
   "source": [
    "- 출고일자, 보유시작일자, 보유종료일자 모두 date 타입으로 형 변환"
   ]
  },
  {
   "cell_type": "code",
   "execution_count": 9,
   "id": "e95a44b0-66fc-46ef-904d-e637a0c2f0a1",
   "metadata": {},
   "outputs": [],
   "source": [
    "df_car.WHOT_DT = [date(x1, x2, x3) for x1, x2, x3 in df_car.WHOT_DT.map(lambda x: map(int, x.split('-')))]\n",
    "df_car.CAR_HLDG_STRT_DT = [date(x1, x2, x3) for x1, x2, x3 in df_car.CAR_HLDG_STRT_DT.map(lambda x: map(int, x.split('-')))]\n",
    "df_car.loc[df_car.CAR_HLDG_FNH_DT.notnull(), 'CAR_HLDG_FNH_DT'] = [date(x1, x2, x3) for x1, x2, x3 in df_car.loc[df_car.CAR_HLDG_FNH_DT.notnull(), 'CAR_HLDG_FNH_DT'].map(lambda x: map(int, x.split('-')))]"
   ]
  },
  {
   "cell_type": "markdown",
   "id": "dda1606c-aacd-4f2a-9080-60b3058beb01",
   "metadata": {},
   "source": [
    "# 2. 샘플링"
   ]
  },
  {
   "cell_type": "markdown",
   "id": "a5d585c8-8558-4a2b-94c3-c8ca5602fcab",
   "metadata": {},
   "source": [
    "## 1) 고객정보.csv - 파생변수 생성\n",
    "- 차후에 차량정보를 기간에 맞춰 분리하는데 이 때, 기간에 영향받지 않는 고객정보 관련 파생변수를 생성합니다."
   ]
  },
  {
   "cell_type": "markdown",
   "id": "59e4b77d-4a06-4f6e-86bb-6c19a8fba266",
   "metadata": {},
   "source": [
    "- 주소_행정시도명 기재여부 : ADM_YN"
   ]
  },
  {
   "cell_type": "code",
   "execution_count": 10,
   "id": "d659113f-3c6a-4e6d-ae6e-12c7ae6ac7fc",
   "metadata": {},
   "outputs": [],
   "source": [
    "df_consumer['ADM_YN'] = 1\n",
    "df_consumer.loc[df_consumer.CUS_ADM_TRY_NM.isnull(), 'ADM_YN'] = 0"
   ]
  },
  {
   "cell_type": "markdown",
   "id": "e590a134-1f30-4286-b466-a1f2d03731d6",
   "metadata": {},
   "source": [
    "- 주택 평형 기재여부 : PYG_YN\n",
    "- 주택 평수 : PYN_NUM"
   ]
  },
  {
   "cell_type": "code",
   "execution_count": 11,
   "id": "5ed81b29-dd6b-414d-bc5b-8e2ca8a79814",
   "metadata": {},
   "outputs": [],
   "source": [
    "df_consumer['PYG_YN'] = 1\n",
    "df_consumer.loc[df_consumer.CLB_HOUS_PYG_NM.isnull(), 'PYG_YN'] = 0"
   ]
  },
  {
   "cell_type": "code",
   "execution_count": 12,
   "id": "9fe3ad39-62c1-49fe-93e9-179ab242faa2",
   "metadata": {},
   "outputs": [],
   "source": [
    "df_consumer['PYG_NUM'] = 0 # 평형을 기재하지 않을 경우 0값으로 대체\n",
    "p = re.compile(r'([ \\d]+)(.*)') # 첫 번째 그룹 : 평수, 두 번째 그룹 : 옵션\n",
    "tmp = [p.findall(x)[0] for x in df_consumer.CLB_HOUS_PYG_NM[df_consumer.CLB_HOUS_PYG_NM.notnull()].values ]\n",
    "df_consumer.loc[df_consumer.CLB_HOUS_PYG_NM.notnull(), 'PYG_NUM'] = list(map(lambda x: int(x[0]), tmp))"
   ]
  },
  {
   "cell_type": "markdown",
   "id": "3984fe8a-9b78-4df2-9c0d-60728710daa9",
   "metadata": {
    "tags": []
   },
   "source": [
    "- 주택 평균가격 기재여부 : REAI_BZTC_YN"
   ]
  },
  {
   "cell_type": "code",
   "execution_count": 13,
   "id": "a53af10b-beb2-4f9f-a5d7-052843b16de0",
   "metadata": {},
   "outputs": [],
   "source": [
    "df_consumer['REAI_BZTC_YN'] = 1\n",
    "df_consumer.loc[df_consumer.REAI_BZTC_AVG_PCE.isnull(), 'REAI_BZTC_YN'] = 0"
   ]
  },
  {
   "cell_type": "markdown",
   "id": "d61faa42-d8c7-46bb-97a7-f4adfeebb01e",
   "metadata": {},
   "source": [
    "- 최초구매나이 : FIRST_BUY_AGE"
   ]
  },
  {
   "cell_type": "code",
   "execution_count": 14,
   "id": "dfcf3fe8-728e-4671-9415-87a201e6a904",
   "metadata": {},
   "outputs": [],
   "source": [
    "tmp = df_car.loc[(df_car.CUS_CAR_SCTN == 1) & (df_car.NUM_IN_SECTION == 1),['CUS_ID','WHOT_DT']] # 최초구매한 관측치만 모은 데이터\n",
    "df_consumer = pd.merge(df_consumer, tmp, on = 'CUS_ID')\n",
    "df_consumer['FIRST_BUY_AGE'] = (df_consumer.WHOT_DT - df_consumer.TYMD).map(lambda x: x.days).values // 365.25\n",
    "df_consumer.drop('WHOT_DT', 1, inplace = True)"
   ]
  },
  {
   "cell_type": "markdown",
   "id": "e83373ad-b975-4711-8d84-e6a7759c6743",
   "metadata": {},
   "source": [
    "## 2) 차량정보.csv 데이터 분리 함수\n",
    "- 6개월간의 특정기간을 예측하기 위해 예측 변수를 생성할 차량정보 데이터와 종속변수를 생성할 차량정보 데이터로 분리합니다.\n",
    "- 예측 변수를 생성할 차량정보 데이터에서 6개월 특정기간에 포함되는 보유종료일자는 예측할 시점에서는 알 수 없는 자료이므로 결측치 처리를 합니다.\n",
    "- sampling_XY : '예측변수를 생성할 차량정보데이터'와 '6개월 내 대차가 이루어진 고객 ID array' 를 튜플로 리턴합니다."
   ]
  },
  {
   "cell_type": "code",
   "execution_count": 15,
   "id": "dfa44f22-9b4e-4a66-bff3-c3ed58080e29",
   "metadata": {},
   "outputs": [],
   "source": [
    "def sampling_XY( Y_period_s, Y_period_e):\n",
    "    For_X = df_car.loc[df_car.WHOT_DT < Y_period_s].copy() # Y값 산출 기간보다 더 빠른 출고일자들은 모두 X값 산출을 위한 데이터\n",
    "    For_X.loc[(Y_period_s <= df_car.CAR_HLDG_FNH_DT), 'CAR_HLDG_FNH_DT'] = np.nan #  Y값 산출 기간보다 더 늦은 보유종료일자는 결측치 처리\n",
    "    \n",
    "    For_Y = df_car.loc[(Y_period_s <= df_car.WHOT_DT) & (df_car.WHOT_DT <= Y_period_e)].copy() # Y값 산출 기간에 해당하는 데이터\n",
    "    For_Y = np.unique( For_Y.loc[For_Y.REPURCHASE_TYPE == 0, 'CUS_ID'] ) # 6개월 내 '대차'인 CUS_ID 생성\n",
    "    return (For_X, For_Y)"
   ]
  },
  {
   "cell_type": "markdown",
   "id": "e6608a2b-1776-468e-a353-7e0a54bafa31",
   "metadata": {},
   "source": [
    "## 3) 파생변수 생성 과정 (test set)\n",
    "- 파생변수 생성과정을 함수처럼 사용할 예정이지만 자세한 사항들을 구분해서 보여주기 위해 test set에 대해 진행합니다.\n",
    "- test set은 2017년 하반기(2017.07.01 ~ 2017.12.31)를 예측할 데이터입니다.\n",
    "- 예측할 6개월 특정기간의 시작날짜와 마지막날짜를 각각 Y_period_s, Y_period_e 변수에 지정합니다.\n",
    "- 데이터 분리 함수를 통하여 차량정보 데이터를 분리합니다."
   ]
  },
  {
   "cell_type": "code",
   "execution_count": 16,
   "id": "5890e508-0a2f-4099-9c42-9ef3f534a280",
   "metadata": {
    "tags": []
   },
   "outputs": [],
   "source": [
    "Y_period_s, Y_period_e = date(2017,7,1), date(2017,12,31)\n",
    "For_X, For_Y = sampling_XY( Y_period_s, Y_period_e ) # 차량정보 데이터 분리"
   ]
  },
  {
   "cell_type": "markdown",
   "id": "62b7519d-7f02-4394-9360-5200724a2989",
   "metadata": {},
   "source": [
    "### (1) 고객 관련 파생변수 생성"
   ]
  },
  {
   "cell_type": "code",
   "execution_count": 17,
   "id": "84581e74-9e79-45f1-8f88-37b5c47ac16f",
   "metadata": {},
   "outputs": [],
   "source": [
    "tmp_df_consumer = df_consumer.copy() # 임시 고객 데이터 생성"
   ]
  },
  {
   "cell_type": "markdown",
   "id": "c47beb37-bcf8-428f-ba6d-dcd6caa2b24e",
   "metadata": {},
   "source": [
    "- 현재 나이 : CURRENT_AGE (예측 변수를 생성할 기간 기준)"
   ]
  },
  {
   "cell_type": "code",
   "execution_count": 18,
   "id": "16639235-e372-4c41-b9e0-cd90d93eed07",
   "metadata": {},
   "outputs": [],
   "source": [
    "tmp_df_consumer['CURRENT_AGE'] = (Y_period_s - tmp_df_consumer.TYMD).map(lambda x: x.days).values // 365.25"
   ]
  },
  {
   "cell_type": "markdown",
   "id": "de04b003-e156-4ade-8999-3538baec0dd6",
   "metadata": {
    "tags": []
   },
   "source": [
    "- 가장 마지막 보유일자 : LAST_FNH\n",
    "  - 한 고객의 보유종료일자 중 결측치를 제외한 가장 오래된 값입니다.\n",
    "  - 만약 모든 보유종료일자가 결측치인 경우 2099/01/01로 지정합니다."
   ]
  },
  {
   "cell_type": "code",
   "execution_count": 19,
   "id": "de1f43ec-006a-4954-9da3-30878660e64c",
   "metadata": {},
   "outputs": [
    {
     "name": "stderr",
     "output_type": "stream",
     "text": [
      "100%|██████████████████████████████████████████████████████████████████████| 1078831/1078831 [03:42<00:00, 4841.03it/s]\n"
     ]
    }
   ],
   "source": [
    "tmp_cus, tmp_last = [], []\n",
    "for i, j in tqdm(For_X.groupby('CUS_ID').CAR_HLDG_FNH_DT):\n",
    "    tmp_cus.append(i)\n",
    "    if all( j.isnull() ):\n",
    "        tmp_last.append( date(2099,1,1) )\n",
    "    else:\n",
    "        tmp_last.append( max(j[j.notnull()]) )\n",
    "\n",
    "tmp_df_consumer = pd.merge(tmp_df_consumer, pd.DataFrame( {'CUS_ID' : tmp_cus, 'LAST_FNH' : tmp_last} ), on = 'CUS_ID')\n",
    "del tmp_cus, tmp_last"
   ]
  },
  {
   "cell_type": "markdown",
   "id": "98118587-ca9c-490a-963c-39c2a7de387a",
   "metadata": {},
   "source": [
    "- 가장 마지막 보유일자 나이 : LAST_FNH_AGE ( 가장 마지막 보유일자 기준)\n",
    "  - 만약 마지막 보유일자가 2099/01/01인 경우 현재 나이로 대체합니다."
   ]
  },
  {
   "cell_type": "code",
   "execution_count": 20,
   "id": "c8f6aa59-7d93-4366-a76d-4edd9dda07f2",
   "metadata": {},
   "outputs": [],
   "source": [
    "tmp_df_consumer['LAST_FNH_AGE'] = tmp_df_consumer['CURRENT_AGE']\n",
    "a = date(2099,1,1)\n",
    "tmp = tmp_df_consumer.loc[tmp_df_consumer.LAST_FNH != a]\n",
    "tmp_df_consumer.loc[tmp_df_consumer.LAST_FNH != a, 'LAST_FNH_AGE'] = (tmp.LAST_FNH - tmp.TYMD).map(lambda x: x.days).values // 365.25"
   ]
  },
  {
   "cell_type": "markdown",
   "id": "32a2d6e1-312f-4254-8a92-152272d355b9",
   "metadata": {},
   "source": [
    "### (2) 구매, 보유기간 관련 파생변수 생성"
   ]
  },
  {
   "cell_type": "markdown",
   "id": "32a3a9ac-a38d-4f58-81e8-fe4a1293a3c5",
   "metadata": {},
   "source": [
    "- 차량보유기간 : CAR_HAVE_PERIOD \n",
    "  - 차량보유기간 = 보유종료일자 - 출고일자 (단위 : 개월수)"
   ]
  },
  {
   "cell_type": "code",
   "execution_count": 21,
   "id": "1c57c821-7042-4a85-b552-bc64187db19c",
   "metadata": {
    "tags": []
   },
   "outputs": [
    {
     "name": "stderr",
     "output_type": "stream",
     "text": [
      "C:\\Users\\gijo0\\.conda\\envs\\tf_cpu\\lib\\site-packages\\ipykernel_launcher.py:4: RuntimeWarning: invalid value encountered in floor_divide\n",
      "  after removing the cwd from sys.path.\n",
      "C:\\Users\\gijo0\\.conda\\envs\\tf_cpu\\lib\\site-packages\\ipykernel_launcher.py:4: RuntimeWarning: invalid value encountered in remainder\n",
      "  after removing the cwd from sys.path.\n"
     ]
    }
   ],
   "source": [
    "tmp = (For_X.CAR_HLDG_FNH_DT - For_X.WHOT_DT).map(lambda x: x.days).values\n",
    "tmp_minus_idx = tmp < 0\n",
    "tmp = abs(tmp)\n",
    "tmp = (tmp // 365) * 12 + (tmp % 365) // 30 + 1\n",
    "tmp[tmp_minus_idx] = - tmp[tmp_minus_idx]\n",
    "\n",
    "For_X['CAR_HAVE_PERIOD'] = tmp\n",
    "del tmp_minus_idx"
   ]
  },
  {
   "cell_type": "markdown",
   "id": "25cb953a-eabc-4016-bee6-9bab3c4d2221",
   "metadata": {},
   "source": [
    "- 보유종료값 존재여부 : FNH_YN\n",
    "  - 앞서 만든 가장 마지막 보유일자(LAST_FNH)가 2099/01/01인지 여부로 생성했습니다."
   ]
  },
  {
   "cell_type": "code",
   "execution_count": 22,
   "id": "9f7cd4fd-5ffc-485d-bcd3-a3461efbeea7",
   "metadata": {},
   "outputs": [],
   "source": [
    "tmp_df_consumer['FNH_YN'] = 1\n",
    "a = date(2099,1,1)\n",
    "tmp_df_consumer.loc[tmp_df_consumer.LAST_FNH == a,'FNH_YN'] = 0"
   ]
  },
  {
   "cell_type": "markdown",
   "id": "1be3f142-f1db-4455-9ec4-7a56098123aa",
   "metadata": {},
   "source": [
    "- 평균/최대/최소 차량 보유기간 : MEAN/MAX/MIN_HAVE_PERIOD"
   ]
  },
  {
   "cell_type": "code",
   "execution_count": 23,
   "id": "9ea48722-d43b-45e9-b473-2cb085fd2968",
   "metadata": {},
   "outputs": [],
   "source": [
    "tmp = For_X.groupby('CUS_ID').CAR_HAVE_PERIOD.agg(['mean',max,min]).reset_index(drop = False)\n",
    "tmp.columns = ['CUS_ID','MEAN_HAVE_PERIOD','MAX_HAVE_PERIOD','MIN_HAVE_PERIOD']\n",
    "tmp.replace(np.nan, 0, inplace = True)\n",
    "tmp_df_consumer = pd.merge(tmp_df_consumer, tmp, on = 'CUS_ID')"
   ]
  },
  {
   "cell_type": "markdown",
   "id": "855316c6-bae1-42ee-a723-c9c5aab38f25",
   "metadata": {},
   "source": [
    "- 가장 마지막 보유일자와 현재까지 기간 : LAST_FNH_CUR_PERIOD\n",
    "  - Y_period_s - 마지막 보유종료일자 (단위 : 개월수)\n",
    "  - 보유일자가 모두 결측치일 경우 0을 지정했습니다."
   ]
  },
  {
   "cell_type": "code",
   "execution_count": 24,
   "id": "3725deaf-709d-46a9-9167-5c878b9904dc",
   "metadata": {},
   "outputs": [
    {
     "name": "stderr",
     "output_type": "stream",
     "text": [
      "C:\\Users\\gijo0\\.conda\\envs\\tf_cpu\\lib\\site-packages\\ipykernel_launcher.py:4: RuntimeWarning: invalid value encountered in floor_divide\n",
      "  after removing the cwd from sys.path.\n",
      "C:\\Users\\gijo0\\.conda\\envs\\tf_cpu\\lib\\site-packages\\ipykernel_launcher.py:4: RuntimeWarning: invalid value encountered in remainder\n",
      "  after removing the cwd from sys.path.\n"
     ]
    }
   ],
   "source": [
    "tmp_df_consumer.LAST_FNH.replace(date(2099,1,1), np.nan, inplace = True)\n",
    "\n",
    "tmp = (Y_period_s - tmp_df_consumer.LAST_FNH).map(lambda x: x.days).values\n",
    "tmp = (tmp // 365) * 12 + (tmp % 365) // 30 + 1\n",
    "\n",
    "tmp_df_consumer['LAST_FNH_CUR_PERIOD'] = tmp\n",
    "tmp_df_consumer.LAST_FNH_CUR_PERIOD.replace(np.nan, 0, inplace = True)\n",
    "tmp_df_consumer.LAST_FNH.replace(np.nan, date(2099,1,1), inplace = True)"
   ]
  },
  {
   "cell_type": "markdown",
   "id": "4a609977-4c54-40b9-8b42-456ea756e9de",
   "metadata": {},
   "source": [
    "- 가장 마지막 출고일자와 현재까지 기간 : LAST_WHOT_CUR_PERIOD\n",
    "  - Y_period_s - 마지막 출고일자 (단위 : 개월수)"
   ]
  },
  {
   "cell_type": "code",
   "execution_count": 25,
   "id": "dfd8dd8c-9c77-44bd-99b3-9e9031066280",
   "metadata": {},
   "outputs": [],
   "source": [
    "tmp = For_X.groupby('CUS_ID').WHOT_DT.agg(max).reset_index(drop = False)\n",
    "tmp_df_consumer = pd.merge(tmp_df_consumer, tmp, on = 'CUS_ID')\n",
    "\n",
    "tmp1 = (Y_period_s - tmp_df_consumer.WHOT_DT).map(lambda x: x.days).values\n",
    "tmp1 = (tmp1 // 365) * 12 + (tmp1 % 365) // 30 + 1\n",
    "\n",
    "tmp_df_consumer['LAST_WHOT_CUR_PERIOD'] = tmp1\n",
    "tmp_df_consumer.drop('WHOT_DT', 1, inplace = True)"
   ]
  },
  {
   "cell_type": "markdown",
   "id": "68951940-947c-4d00-abb3-88ada863b537",
   "metadata": {},
   "source": [
    "### (3) 차량 대수 관련"
   ]
  },
  {
   "cell_type": "markdown",
   "id": "167c593c-94af-4827-bf11-0f454f4ad4d7",
   "metadata": {},
   "source": [
    "- 현재 가지고 있는 차량수 : CUR_CAR_NUM\n",
    "- 최대 운용했던 차량수 : MAX_CAR_NUM\n",
    "- 구매 횟수 : BUY_NUM\n",
    "- 섹션 내 최대 구매횟수 : MAX_NUM_IN_SCTN"
   ]
  },
  {
   "cell_type": "code",
   "execution_count": 26,
   "id": "035edece-6275-43cf-bd42-a64e0a7ff76c",
   "metadata": {},
   "outputs": [],
   "source": [
    "tmp = For_X.groupby('CUS_ID').agg({'CAR_HLDG_FNH_DT' : ( lambda x: sum(x.isnull()) ), 'CUS_CAR_SCTN' : max, 'CAR_ID' : len, 'NUM_IN_SECTION' : max})\n",
    "tmp = tmp.reset_index()\n",
    "tmp.columns = ['CUS_ID', 'CUR_CAR_NUM', 'MAX_CAR_NUM', 'BUY_NUM', 'MAX_NUM_IN_SCTN']\n",
    "\n",
    "tmp_df_consumer = pd.merge(tmp_df_consumer, tmp, on = 'CUS_ID')"
   ]
  },
  {
   "cell_type": "markdown",
   "id": "63a24d25-9344-41f2-b4a9-61d1c07fc5bd",
   "metadata": {},
   "source": [
    "### (4) 종속변수 생성 : Y (대차여부)"
   ]
  },
  {
   "cell_type": "code",
   "execution_count": 27,
   "id": "dfddd22d-1547-43ca-881b-d74bc23cdfeb",
   "metadata": {},
   "outputs": [],
   "source": [
    "tmp_df_consumer['Y'] = 0\n",
    "tmp_df_consumer.loc[tmp_df_consumer.CUS_ID.isin( For_Y ), 'Y'] = 1"
   ]
  },
  {
   "cell_type": "code",
   "execution_count": 28,
   "id": "3750a319-76aa-4354-b139-ea7fa16dcf77",
   "metadata": {},
   "outputs": [],
   "source": [
    "test_set = tmp_df_consumer.copy()\n",
    "del tmp_df_consumer"
   ]
  },
  {
   "cell_type": "markdown",
   "id": "da30f3cf-1374-47af-9bd7-8955210871eb",
   "metadata": {},
   "source": [
    "## 4) 파생변수 생성함수 (train set)\n",
    "- 앞서 진행한 과정을 하나의 함수로 만들어 train set을 생성합니다.\n",
    "- train set은 각 연도별 상반기, 하반기를 예측할 데이터를 모아 만듭니다. (Data Agumentation)\n",
    "- 즉, 2010년 상반기 예측할 데이터부터 2017년 상반기를 예측할 데이터를 쌓습니다."
   ]
  },
  {
   "cell_type": "code",
   "execution_count": 29,
   "id": "14495bc6-74a5-4535-aaa6-2de75aa2262e",
   "metadata": {},
   "outputs": [],
   "source": [
    "Y_period_s_list = [date(y,m,1) for y in range(2010,2018) for m in [1,7]]\n",
    "Y_period_s_list = Y_period_s_list[:-1]\n",
    "\n",
    "Y_period_e_list = [date(y,m,d) for y in range(2010,2018) for m,d in zip([6,12],[30,31])]\n",
    "Y_period_e_list = Y_period_e_list[:-1]"
   ]
  },
  {
   "cell_type": "code",
   "execution_count": 30,
   "id": "afb6583d-e807-4888-b4c2-c749b1419110",
   "metadata": {},
   "outputs": [],
   "source": [
    "def Sampling_Modify( Y_period_s , Y_period_e):\n",
    "    For_X, For_Y = sampling_XY( Y_period_s, Y_period_e ) # 차량정보 데이터 분리\n",
    "\n",
    "    tmp_df_consumer = df_consumer.copy() # 임시 고객 데이터 생성\n",
    "\n",
    "    # 1. 현재 나이 : CURRENT_AGE\n",
    "    tmp_df_consumer['CURRENT_AGE'] = (Y_period_s - tmp_df_consumer.TYMD).map(lambda x: x.days).values // 365.25\n",
    "\n",
    "    # 2. 가장 마지막 보유일자 : LAST_FNH\n",
    "    tmp_cus, tmp_last = [], []\n",
    "    for i, j in tqdm(For_X.groupby('CUS_ID').CAR_HLDG_FNH_DT):\n",
    "        tmp_cus.append(i)\n",
    "        if all( j.isnull() ):\n",
    "            tmp_last.append( date(2099,1,1) )\n",
    "        else:\n",
    "            tmp_last.append( max(j[j.notnull()]) )\n",
    "    tmp_df_consumer = pd.merge(tmp_df_consumer, pd.DataFrame( {'CUS_ID' : tmp_cus, 'LAST_FNH' : tmp_last} ), on = 'CUS_ID')\n",
    "\n",
    "    # 3. 가장 마지막 보유일자 나이 : LAST_FNH_AGE\n",
    "    tmp_df_consumer['LAST_FNH_AGE'] = tmp_df_consumer['CURRENT_AGE']\n",
    "    a = date(2099,1,1)\n",
    "    tmp = tmp_df_consumer.loc[tmp_df_consumer.LAST_FNH != a]\n",
    "    tmp_df_consumer.loc[tmp_df_consumer.LAST_FNH != a, 'LAST_FNH_AGE'] = (tmp.LAST_FNH - tmp.TYMD).map(lambda x: x.days).values // 365.25\n",
    "\n",
    "    # 4. 차량보유기간 : CAR_HAVE_PERIOD\n",
    "    tmp = (For_X.CAR_HLDG_FNH_DT - For_X.WHOT_DT).map(lambda x: x.days).values\n",
    "    tmp_minus_idx = tmp < 0\n",
    "    tmp = abs(tmp)\n",
    "    tmp = (tmp // 365) * 12 + (tmp % 365) // 30 + 1\n",
    "    tmp[tmp_minus_idx] = - tmp[tmp_minus_idx]\n",
    "    For_X['CAR_HAVE_PERIOD'] = tmp\n",
    "\n",
    "    # 5. 보유종료값 존재여부 : FNH_YN\n",
    "    tmp_df_consumer['FNH_YN'] = 1\n",
    "    tmp_df_consumer.loc[tmp_df_consumer.LAST_FNH == date(2099,1,1),'FNH_YN'] = 0\n",
    "\n",
    "    # 6. 평균/최대/최소 차량 보유기간 : MEAN/MAX/MIN_HAVE_PERIOD\n",
    "    tmp = For_X.groupby('CUS_ID').CAR_HAVE_PERIOD.agg(['mean',max,min]).reset_index(drop = False)\n",
    "    tmp.columns = ['CUS_ID','MEAN_HAVE_PERIOD','MAX_HAVE_PERIOD','MIN_HAVE_PERIOD']\n",
    "    tmp.replace(np.nan, 0, inplace = True)\n",
    "    tmp_df_consumer = pd.merge(tmp_df_consumer, tmp, on = 'CUS_ID')\n",
    "\n",
    "    # 7. 가장 마지막 보유일자와 현재까지 기간(LAST_FNH_CUR_PERIOD) - 단위 : 개월수\n",
    "    tmp_df_consumer.LAST_FNH.replace(date(2099,1,1), np.nan, inplace = True)\n",
    "    tmp = (Y_period_s - tmp_df_consumer.LAST_FNH).map(lambda x: x.days).values\n",
    "    tmp = (tmp // 365) * 12 + (tmp % 365) // 30 + 1\n",
    "    tmp_df_consumer['LAST_FNH_CUR_PERIOD'] = tmp\n",
    "    tmp_df_consumer.LAST_FNH_CUR_PERIOD.replace(np.nan, 0, inplace = True)\n",
    "    tmp_df_consumer.LAST_FNH.replace(np.nan, date(2099,1,1), inplace = True)\n",
    "\n",
    "    # 8. 가장 마지막 출고일자와 현재까지 기간(LAST_WHOT_CUR_PERIOD)\n",
    "    tmp = For_X.groupby('CUS_ID').WHOT_DT.agg(max).reset_index(drop = False)\n",
    "    tmp_df_consumer = pd.merge(tmp_df_consumer, tmp, on = 'CUS_ID')\n",
    "    tmp1 = (Y_period_s - tmp_df_consumer.WHOT_DT).map(lambda x: x.days).values\n",
    "    tmp1 = (tmp1 // 365) * 12 + (tmp1 % 365) // 30 + 1\n",
    "    tmp_df_consumer['LAST_WHOT_CUR_PERIOD'] = tmp1\n",
    "    tmp_df_consumer.drop('WHOT_DT', 1, inplace = True)\n",
    "\n",
    "    # 9. 현재 가지고 있는 차량수(CUR_CAR_NUM), 최대 운용했던 차량수(MAX_CAR_NUM), 구매 횟수(BUY_NUM), 섹션 내 최대 구매횟수(MAX_NUM_IN_SCTN)\n",
    "    tmp = For_X.groupby('CUS_ID').agg({'CAR_HLDG_FNH_DT' : ( lambda x: sum(x.isnull()) ), 'CUS_CAR_SCTN' : max, 'CAR_ID' : len, 'NUM_IN_SECTION' : max})\n",
    "    tmp = tmp.reset_index()\n",
    "    tmp.columns = ['CUS_ID', 'CUR_CAR_NUM', 'MAX_CAR_NUM', 'BUY_NUM', 'MAX_NUM_IN_SCTN']\n",
    "    tmp_df_consumer = pd.merge(tmp_df_consumer, tmp, on = 'CUS_ID')\n",
    "    \n",
    "    # 10. 종속변수(Y) : 대차여부\n",
    "    tmp_df_consumer['Y'] = 0\n",
    "    tmp_df_consumer.loc[tmp_df_consumer.CUS_ID.isin( For_Y ), 'Y'] = 1\n",
    "\n",
    "    return tmp_df_consumer"
   ]
  },
  {
   "cell_type": "code",
   "execution_count": 31,
   "id": "83980184-f4ee-4551-95ab-a85bc9af456d",
   "metadata": {
    "tags": []
   },
   "outputs": [
    {
     "name": "stdout",
     "output_type": "stream",
     "text": [
      "2010-01-01 2010-06-30 2021-06-14 05:24:05.249064\n"
     ]
    },
    {
     "name": "stderr",
     "output_type": "stream",
     "text": [
      "100%|████████████████████████████████████████████████████████████████████████| 735130/735130 [02:04<00:00, 5883.82it/s]\n",
      "C:\\Users\\gijo0\\.conda\\envs\\tf_cpu\\lib\\site-packages\\ipykernel_launcher.py:29: RuntimeWarning: invalid value encountered in floor_divide\n",
      "C:\\Users\\gijo0\\.conda\\envs\\tf_cpu\\lib\\site-packages\\ipykernel_launcher.py:29: RuntimeWarning: invalid value encountered in remainder\n",
      "C:\\Users\\gijo0\\.conda\\envs\\tf_cpu\\lib\\site-packages\\ipykernel_launcher.py:46: RuntimeWarning: invalid value encountered in floor_divide\n",
      "C:\\Users\\gijo0\\.conda\\envs\\tf_cpu\\lib\\site-packages\\ipykernel_launcher.py:46: RuntimeWarning: invalid value encountered in remainder\n"
     ]
    },
    {
     "name": "stdout",
     "output_type": "stream",
     "text": [
      "2010-07-01 2010-12-31 2021-06-14 05:28:49.208271\n"
     ]
    },
    {
     "name": "stderr",
     "output_type": "stream",
     "text": [
      "100%|████████████████████████████████████████████████████████████████████████| 760670/760670 [02:35<00:00, 4906.59it/s]\n",
      "C:\\Users\\gijo0\\.conda\\envs\\tf_cpu\\lib\\site-packages\\ipykernel_launcher.py:29: RuntimeWarning: invalid value encountered in floor_divide\n",
      "C:\\Users\\gijo0\\.conda\\envs\\tf_cpu\\lib\\site-packages\\ipykernel_launcher.py:29: RuntimeWarning: invalid value encountered in remainder\n",
      "C:\\Users\\gijo0\\.conda\\envs\\tf_cpu\\lib\\site-packages\\ipykernel_launcher.py:46: RuntimeWarning: invalid value encountered in floor_divide\n",
      "C:\\Users\\gijo0\\.conda\\envs\\tf_cpu\\lib\\site-packages\\ipykernel_launcher.py:46: RuntimeWarning: invalid value encountered in remainder\n"
     ]
    },
    {
     "name": "stdout",
     "output_type": "stream",
     "text": [
      "2011-01-01 2011-06-30 2021-06-14 05:34:10.773362\n"
     ]
    },
    {
     "name": "stderr",
     "output_type": "stream",
     "text": [
      "100%|████████████████████████████████████████████████████████████████████████| 796396/796396 [02:45<00:00, 4824.05it/s]\n",
      "C:\\Users\\gijo0\\.conda\\envs\\tf_cpu\\lib\\site-packages\\ipykernel_launcher.py:29: RuntimeWarning: invalid value encountered in floor_divide\n",
      "C:\\Users\\gijo0\\.conda\\envs\\tf_cpu\\lib\\site-packages\\ipykernel_launcher.py:29: RuntimeWarning: invalid value encountered in remainder\n",
      "C:\\Users\\gijo0\\.conda\\envs\\tf_cpu\\lib\\site-packages\\ipykernel_launcher.py:46: RuntimeWarning: invalid value encountered in floor_divide\n",
      "C:\\Users\\gijo0\\.conda\\envs\\tf_cpu\\lib\\site-packages\\ipykernel_launcher.py:46: RuntimeWarning: invalid value encountered in remainder\n"
     ]
    },
    {
     "name": "stdout",
     "output_type": "stream",
     "text": [
      "2011-07-01 2011-12-31 2021-06-14 05:39:53.472687\n"
     ]
    },
    {
     "name": "stderr",
     "output_type": "stream",
     "text": [
      "100%|████████████████████████████████████████████████████████████████████████| 823668/823668 [03:02<00:00, 4520.19it/s]\n",
      "C:\\Users\\gijo0\\.conda\\envs\\tf_cpu\\lib\\site-packages\\ipykernel_launcher.py:29: RuntimeWarning: invalid value encountered in floor_divide\n",
      "C:\\Users\\gijo0\\.conda\\envs\\tf_cpu\\lib\\site-packages\\ipykernel_launcher.py:29: RuntimeWarning: invalid value encountered in remainder\n",
      "C:\\Users\\gijo0\\.conda\\envs\\tf_cpu\\lib\\site-packages\\ipykernel_launcher.py:46: RuntimeWarning: invalid value encountered in floor_divide\n",
      "C:\\Users\\gijo0\\.conda\\envs\\tf_cpu\\lib\\site-packages\\ipykernel_launcher.py:46: RuntimeWarning: invalid value encountered in remainder\n"
     ]
    },
    {
     "name": "stdout",
     "output_type": "stream",
     "text": [
      "2012-01-01 2012-06-30 2021-06-14 05:46:06.750952\n"
     ]
    },
    {
     "name": "stderr",
     "output_type": "stream",
     "text": [
      "100%|████████████████████████████████████████████████████████████████████████| 851004/851004 [03:14<00:00, 4386.42it/s]\n",
      "C:\\Users\\gijo0\\.conda\\envs\\tf_cpu\\lib\\site-packages\\ipykernel_launcher.py:29: RuntimeWarning: invalid value encountered in floor_divide\n",
      "C:\\Users\\gijo0\\.conda\\envs\\tf_cpu\\lib\\site-packages\\ipykernel_launcher.py:29: RuntimeWarning: invalid value encountered in remainder\n",
      "C:\\Users\\gijo0\\.conda\\envs\\tf_cpu\\lib\\site-packages\\ipykernel_launcher.py:46: RuntimeWarning: invalid value encountered in floor_divide\n",
      "C:\\Users\\gijo0\\.conda\\envs\\tf_cpu\\lib\\site-packages\\ipykernel_launcher.py:46: RuntimeWarning: invalid value encountered in remainder\n"
     ]
    },
    {
     "name": "stdout",
     "output_type": "stream",
     "text": [
      "2012-07-01 2012-12-31 2021-06-14 05:52:45.342271\n"
     ]
    },
    {
     "name": "stderr",
     "output_type": "stream",
     "text": [
      "100%|████████████████████████████████████████████████████████████████████████| 876222/876222 [03:26<00:00, 4247.38it/s]\n",
      "C:\\Users\\gijo0\\.conda\\envs\\tf_cpu\\lib\\site-packages\\ipykernel_launcher.py:29: RuntimeWarning: invalid value encountered in floor_divide\n",
      "C:\\Users\\gijo0\\.conda\\envs\\tf_cpu\\lib\\site-packages\\ipykernel_launcher.py:29: RuntimeWarning: invalid value encountered in remainder\n",
      "C:\\Users\\gijo0\\.conda\\envs\\tf_cpu\\lib\\site-packages\\ipykernel_launcher.py:46: RuntimeWarning: invalid value encountered in floor_divide\n",
      "C:\\Users\\gijo0\\.conda\\envs\\tf_cpu\\lib\\site-packages\\ipykernel_launcher.py:46: RuntimeWarning: invalid value encountered in remainder\n"
     ]
    },
    {
     "name": "stdout",
     "output_type": "stream",
     "text": [
      "2013-01-01 2013-06-30 2021-06-14 05:59:49.937944\n"
     ]
    },
    {
     "name": "stderr",
     "output_type": "stream",
     "text": [
      "100%|████████████████████████████████████████████████████████████████████████| 903889/903889 [03:27<00:00, 4350.87it/s]\n",
      "C:\\Users\\gijo0\\.conda\\envs\\tf_cpu\\lib\\site-packages\\ipykernel_launcher.py:29: RuntimeWarning: invalid value encountered in floor_divide\n",
      "C:\\Users\\gijo0\\.conda\\envs\\tf_cpu\\lib\\site-packages\\ipykernel_launcher.py:29: RuntimeWarning: invalid value encountered in remainder\n",
      "C:\\Users\\gijo0\\.conda\\envs\\tf_cpu\\lib\\site-packages\\ipykernel_launcher.py:46: RuntimeWarning: invalid value encountered in floor_divide\n",
      "C:\\Users\\gijo0\\.conda\\envs\\tf_cpu\\lib\\site-packages\\ipykernel_launcher.py:46: RuntimeWarning: invalid value encountered in remainder\n"
     ]
    },
    {
     "name": "stdout",
     "output_type": "stream",
     "text": [
      "2013-07-01 2013-12-31 2021-06-14 06:06:57.686075\n"
     ]
    },
    {
     "name": "stderr",
     "output_type": "stream",
     "text": [
      "100%|████████████████████████████████████████████████████████████████████████| 926106/926106 [02:51<00:00, 5414.67it/s]\n",
      "C:\\Users\\gijo0\\.conda\\envs\\tf_cpu\\lib\\site-packages\\ipykernel_launcher.py:29: RuntimeWarning: invalid value encountered in floor_divide\n",
      "C:\\Users\\gijo0\\.conda\\envs\\tf_cpu\\lib\\site-packages\\ipykernel_launcher.py:29: RuntimeWarning: invalid value encountered in remainder\n",
      "C:\\Users\\gijo0\\.conda\\envs\\tf_cpu\\lib\\site-packages\\ipykernel_launcher.py:46: RuntimeWarning: invalid value encountered in floor_divide\n",
      "C:\\Users\\gijo0\\.conda\\envs\\tf_cpu\\lib\\site-packages\\ipykernel_launcher.py:46: RuntimeWarning: invalid value encountered in remainder\n"
     ]
    },
    {
     "name": "stdout",
     "output_type": "stream",
     "text": [
      "2014-01-01 2014-06-30 2021-06-14 06:12:47.217124\n"
     ]
    },
    {
     "name": "stderr",
     "output_type": "stream",
     "text": [
      "100%|████████████████████████████████████████████████████████████████████████| 948032/948032 [02:45<00:00, 5736.60it/s]\n",
      "C:\\Users\\gijo0\\.conda\\envs\\tf_cpu\\lib\\site-packages\\ipykernel_launcher.py:29: RuntimeWarning: invalid value encountered in floor_divide\n",
      "C:\\Users\\gijo0\\.conda\\envs\\tf_cpu\\lib\\site-packages\\ipykernel_launcher.py:29: RuntimeWarning: invalid value encountered in remainder\n",
      "C:\\Users\\gijo0\\.conda\\envs\\tf_cpu\\lib\\site-packages\\ipykernel_launcher.py:46: RuntimeWarning: invalid value encountered in floor_divide\n",
      "C:\\Users\\gijo0\\.conda\\envs\\tf_cpu\\lib\\site-packages\\ipykernel_launcher.py:46: RuntimeWarning: invalid value encountered in remainder\n"
     ]
    },
    {
     "name": "stdout",
     "output_type": "stream",
     "text": [
      "2014-07-01 2014-12-31 2021-06-14 06:18:32.111603\n"
     ]
    },
    {
     "name": "stderr",
     "output_type": "stream",
     "text": [
      "100%|████████████████████████████████████████████████████████████████████████| 968763/968763 [02:55<00:00, 5532.15it/s]\n",
      "C:\\Users\\gijo0\\.conda\\envs\\tf_cpu\\lib\\site-packages\\ipykernel_launcher.py:29: RuntimeWarning: invalid value encountered in floor_divide\n",
      "C:\\Users\\gijo0\\.conda\\envs\\tf_cpu\\lib\\site-packages\\ipykernel_launcher.py:29: RuntimeWarning: invalid value encountered in remainder\n",
      "C:\\Users\\gijo0\\.conda\\envs\\tf_cpu\\lib\\site-packages\\ipykernel_launcher.py:46: RuntimeWarning: invalid value encountered in floor_divide\n",
      "C:\\Users\\gijo0\\.conda\\envs\\tf_cpu\\lib\\site-packages\\ipykernel_launcher.py:46: RuntimeWarning: invalid value encountered in remainder\n"
     ]
    },
    {
     "name": "stdout",
     "output_type": "stream",
     "text": [
      "2015-01-01 2015-06-30 2021-06-14 06:24:32.539575\n"
     ]
    },
    {
     "name": "stderr",
     "output_type": "stream",
     "text": [
      "100%|████████████████████████████████████████████████████████████████████████| 989205/989205 [03:03<00:00, 5398.49it/s]\n",
      "C:\\Users\\gijo0\\.conda\\envs\\tf_cpu\\lib\\site-packages\\ipykernel_launcher.py:29: RuntimeWarning: invalid value encountered in floor_divide\n",
      "C:\\Users\\gijo0\\.conda\\envs\\tf_cpu\\lib\\site-packages\\ipykernel_launcher.py:29: RuntimeWarning: invalid value encountered in remainder\n",
      "C:\\Users\\gijo0\\.conda\\envs\\tf_cpu\\lib\\site-packages\\ipykernel_launcher.py:46: RuntimeWarning: invalid value encountered in floor_divide\n",
      "C:\\Users\\gijo0\\.conda\\envs\\tf_cpu\\lib\\site-packages\\ipykernel_launcher.py:46: RuntimeWarning: invalid value encountered in remainder\n"
     ]
    },
    {
     "name": "stdout",
     "output_type": "stream",
     "text": [
      "2015-07-01 2015-12-31 2021-06-14 06:30:47.490471\n"
     ]
    },
    {
     "name": "stderr",
     "output_type": "stream",
     "text": [
      "100%|██████████████████████████████████████████████████████████████████████| 1007884/1007884 [03:12<00:00, 5227.86it/s]\n",
      "C:\\Users\\gijo0\\.conda\\envs\\tf_cpu\\lib\\site-packages\\ipykernel_launcher.py:29: RuntimeWarning: invalid value encountered in floor_divide\n",
      "C:\\Users\\gijo0\\.conda\\envs\\tf_cpu\\lib\\site-packages\\ipykernel_launcher.py:29: RuntimeWarning: invalid value encountered in remainder\n",
      "C:\\Users\\gijo0\\.conda\\envs\\tf_cpu\\lib\\site-packages\\ipykernel_launcher.py:46: RuntimeWarning: invalid value encountered in floor_divide\n",
      "C:\\Users\\gijo0\\.conda\\envs\\tf_cpu\\lib\\site-packages\\ipykernel_launcher.py:46: RuntimeWarning: invalid value encountered in remainder\n"
     ]
    },
    {
     "name": "stdout",
     "output_type": "stream",
     "text": [
      "2016-01-01 2016-06-30 2021-06-14 06:37:17.852193\n"
     ]
    },
    {
     "name": "stderr",
     "output_type": "stream",
     "text": [
      "100%|██████████████████████████████████████████████████████████████████████| 1030768/1030768 [03:19<00:00, 5160.58it/s]\n",
      "C:\\Users\\gijo0\\.conda\\envs\\tf_cpu\\lib\\site-packages\\ipykernel_launcher.py:29: RuntimeWarning: invalid value encountered in floor_divide\n",
      "C:\\Users\\gijo0\\.conda\\envs\\tf_cpu\\lib\\site-packages\\ipykernel_launcher.py:29: RuntimeWarning: invalid value encountered in remainder\n",
      "C:\\Users\\gijo0\\.conda\\envs\\tf_cpu\\lib\\site-packages\\ipykernel_launcher.py:46: RuntimeWarning: invalid value encountered in floor_divide\n",
      "C:\\Users\\gijo0\\.conda\\envs\\tf_cpu\\lib\\site-packages\\ipykernel_launcher.py:46: RuntimeWarning: invalid value encountered in remainder\n"
     ]
    },
    {
     "name": "stdout",
     "output_type": "stream",
     "text": [
      "2016-07-01 2016-12-31 2021-06-14 06:43:59.748646\n"
     ]
    },
    {
     "name": "stderr",
     "output_type": "stream",
     "text": [
      "100%|██████████████████████████████████████████████████████████████████████| 1048214/1048214 [03:26<00:00, 5066.94it/s]\n",
      "C:\\Users\\gijo0\\.conda\\envs\\tf_cpu\\lib\\site-packages\\ipykernel_launcher.py:29: RuntimeWarning: invalid value encountered in floor_divide\n",
      "C:\\Users\\gijo0\\.conda\\envs\\tf_cpu\\lib\\site-packages\\ipykernel_launcher.py:29: RuntimeWarning: invalid value encountered in remainder\n",
      "C:\\Users\\gijo0\\.conda\\envs\\tf_cpu\\lib\\site-packages\\ipykernel_launcher.py:46: RuntimeWarning: invalid value encountered in floor_divide\n",
      "C:\\Users\\gijo0\\.conda\\envs\\tf_cpu\\lib\\site-packages\\ipykernel_launcher.py:46: RuntimeWarning: invalid value encountered in remainder\n"
     ]
    },
    {
     "name": "stdout",
     "output_type": "stream",
     "text": [
      "2017-01-01 2017-06-30 2021-06-14 06:50:51.250276\n"
     ]
    },
    {
     "name": "stderr",
     "output_type": "stream",
     "text": [
      "100%|██████████████████████████████████████████████████████████████████████| 1063530/1063530 [03:32<00:00, 5005.99it/s]\n",
      "C:\\Users\\gijo0\\.conda\\envs\\tf_cpu\\lib\\site-packages\\ipykernel_launcher.py:29: RuntimeWarning: invalid value encountered in floor_divide\n",
      "C:\\Users\\gijo0\\.conda\\envs\\tf_cpu\\lib\\site-packages\\ipykernel_launcher.py:29: RuntimeWarning: invalid value encountered in remainder\n",
      "C:\\Users\\gijo0\\.conda\\envs\\tf_cpu\\lib\\site-packages\\ipykernel_launcher.py:46: RuntimeWarning: invalid value encountered in floor_divide\n",
      "C:\\Users\\gijo0\\.conda\\envs\\tf_cpu\\lib\\site-packages\\ipykernel_launcher.py:46: RuntimeWarning: invalid value encountered in remainder\n"
     ]
    }
   ],
   "source": [
    "train_set = pd.DataFrame()\n",
    "for Y_period_s, Y_period_e in zip(Y_period_s_list, Y_period_e_list):\n",
    "    print(Y_period_s, Y_period_e, datetime.now())\n",
    "    train_set = pd.concat([train_set, Sampling_Modify( Y_period_s, Y_period_e)], axis = 0)"
   ]
  },
  {
   "cell_type": "code",
   "execution_count": 61,
   "id": "bfbec6a9-0bf2-4f13-9931-e806b63b6c44",
   "metadata": {},
   "outputs": [],
   "source": [
    "# train_set.to_csv(CURRENT_PATH + '\\\\data\\\\train_set.csv', index = False, header = True, encoding = 'cp949')\n",
    "# test_set.to_csv(CURRENT_PATH + '\\\\data\\\\test_set.csv', index = False, header = True, encoding = 'cp949')"
   ]
  },
  {
   "cell_type": "markdown",
   "id": "519a58da-9d50-4d36-ae97-d1db8f053ae8",
   "metadata": {},
   "source": [
    "# 3. 독립/종속 변수 정의"
   ]
  },
  {
   "cell_type": "markdown",
   "id": "303baf5b-34c8-43e6-9f3c-9ce17a1afad6",
   "metadata": {},
   "source": [
    "## 1) 종속변수(Y) : 6개월 내 대차여부\n",
    "- 값 : 0 - 대차 구매가 일어나지 않음, 1 - 대차 구매가 일어남 (Binary data)"
   ]
  },
  {
   "cell_type": "markdown",
   "id": "6e683d0e-3c68-4a49-ab4e-8164d0c3f8a3",
   "metadata": {},
   "source": [
    "## 2) 예측변수(X)\n",
    "- 고객 관련\n",
    "  - 개인사업자여부, 성별, 평수기재, 주소기재, 평균가격기재\n",
    "  - 현재 나이, 최초 구매 나이, 가장 마지막 보유일자 나이\n",
    "- 구매, 보유 관련\n",
    "  - 보유종료값 존재여부, 평균/최대/최소 차량 보유기간\n",
    "  - 가장 마지막 보유일자와 현재까지 기간, 가장 마지막 출고일자와 현재까지 기간\n",
    "- 차량 대수 관련\n",
    "  - 현재 가지고 있는 차량수, 최대 운용했던 차량수, 구매 횟수, 섹션 내 최대 구매횟수"
   ]
  },
  {
   "cell_type": "markdown",
   "id": "a28723f2-35ea-464f-bfb2-93fa18846238",
   "metadata": {},
   "source": [
    "- 사용할 변수 지정"
   ]
  },
  {
   "cell_type": "code",
   "execution_count": 32,
   "id": "e126c67f-55a2-41cd-ab6d-433e3a863503",
   "metadata": {},
   "outputs": [],
   "source": [
    "select_cols = ['PSN_BIZR_YN','SEX_SCN_NM','PYG_YN','ADM_YN','REAI_BZTC_YN', 'CURRENT_AGE','LAST_FNH_AGE',\n",
    "               'FNH_YN', 'MEAN_HAVE_PERIOD', 'MAX_HAVE_PERIOD', 'MIN_HAVE_PERIOD', 'LAST_FNH_CUR_PERIOD','LAST_WHOT_CUR_PERIOD',\n",
    "               'CUR_CAR_NUM', 'MAX_CAR_NUM', 'BUY_NUM', 'MAX_NUM_IN_SCTN', 'Y']"
   ]
  },
  {
   "cell_type": "markdown",
   "id": "abc1d528-6a18-4e5f-8382-88e25f7206af",
   "metadata": {},
   "source": [
    "- 형변환"
   ]
  },
  {
   "cell_type": "code",
   "execution_count": 33,
   "id": "17f71311-b219-46e2-815e-45c1893fc807",
   "metadata": {},
   "outputs": [],
   "source": [
    "train_set.PSN_BIZR_YN.replace(['Y','N'], [1, 0], inplace = True)\n",
    "train_set.SEX_SCN_NM.replace(['남자','여자'], [1, 0], inplace = True)\n",
    "\n",
    "train_set.PSN_BIZR_YN = train_set.PSN_BIZR_YN.astype('int')\n",
    "train_set.SEX_SCN_NM = train_set.SEX_SCN_NM.astype('int')\n",
    "\n",
    "train_set.CURRENT_AGE = train_set.CURRENT_AGE.astype('int')\n",
    "train_set.LAST_FNH_AGE = train_set.LAST_FNH_AGE.astype('int')\n",
    "train_set.MAX_HAVE_PERIOD = train_set.MAX_HAVE_PERIOD.astype('int')\n",
    "train_set.MIN_HAVE_PERIOD = train_set.MIN_HAVE_PERIOD.astype('int')\n",
    "train_set.LAST_FNH_CUR_PERIOD = train_set.LAST_FNH_CUR_PERIOD.astype('int')"
   ]
  },
  {
   "cell_type": "code",
   "execution_count": 34,
   "id": "6d9455b5-6e6a-4a20-9202-78fbbe48b00c",
   "metadata": {
    "tags": []
   },
   "outputs": [],
   "source": [
    "test_set.PSN_BIZR_YN.replace(['Y','N'], [1, 0], inplace = True)\n",
    "test_set.SEX_SCN_NM.replace(['남자','여자'], [1, 0], inplace = True)\n",
    "\n",
    "test_set.PSN_BIZR_YN = test_set.PSN_BIZR_YN.astype('int')\n",
    "test_set.SEX_SCN_NM = test_set.SEX_SCN_NM.astype('int')\n",
    "\n",
    "test_set.CURRENT_AGE = test_set.CURRENT_AGE.astype('int')\n",
    "test_set.LAST_FNH_AGE = test_set.LAST_FNH_AGE.astype('int')\n",
    "test_set.MAX_HAVE_PERIOD = test_set.MAX_HAVE_PERIOD.astype('int')\n",
    "test_set.MIN_HAVE_PERIOD = test_set.MIN_HAVE_PERIOD.astype('int')\n",
    "test_set.LAST_FNH_CUR_PERIOD = test_set.LAST_FNH_CUR_PERIOD.astype('int')"
   ]
  },
  {
   "cell_type": "markdown",
   "id": "8bbe5fd1-80de-4442-9131-5306b695b388",
   "metadata": {},
   "source": [
    "- 최종 분석에 사용할 데이터 : rdata"
   ]
  },
  {
   "cell_type": "code",
   "execution_count": 36,
   "id": "b8dd8826-efba-477b-91ae-204a7fea7ba4",
   "metadata": {},
   "outputs": [
    {
     "name": "stdout",
     "output_type": "stream",
     "text": [
      "13729481 6510317\n"
     ]
    }
   ],
   "source": [
    "rdata = train_set[select_cols].copy()\n",
    "rdata.drop_duplicates(inplace = True)\n",
    "print( train_set.shape[0], rdata.shape[0] )"
   ]
  },
  {
   "cell_type": "markdown",
   "id": "f00ee710-ac0b-4247-943e-c22066cfbd91",
   "metadata": {},
   "source": [
    "# 4. 모델링"
   ]
  },
  {
   "cell_type": "markdown",
   "id": "6aea5b60-46e1-4ead-a987-087631251850",
   "metadata": {},
   "source": [
    "## 1) 모델링에 사용할 데이터 생성\n",
    "- train + valid set은 2010년 상반기 ~ 2017년 상반기를 예측한 데이터입니다.\n",
    "- test set은 2017년 하반기 데이터입니다.\n",
    "- train set과 valid set의 비율은 7:3입니다."
   ]
  },
  {
   "cell_type": "code",
   "execution_count": 37,
   "id": "9ec9aea5-c131-406d-a191-c75876ed516e",
   "metadata": {},
   "outputs": [],
   "source": [
    "X, y = rdata.drop('Y', axis = 1, inplace = False), rdata.Y\n",
    "\n",
    "X_train, X_valid, y_train, y_valid = train_test_split(X, y, test_size = 0.3, random_state = 123456)\n",
    "\n",
    "dtrain = xgb.DMatrix(data = X_train, label = y_train)\n",
    "dvalid = xgb.DMatrix(data = X_valid, label = y_valid)\n",
    "\n",
    "wlist = [(dtrain, 'train'), (dvalid,'eval')]"
   ]
  },
  {
   "cell_type": "markdown",
   "id": "ae2ecc28-0996-463a-ab2e-c8f90038e14b",
   "metadata": {},
   "source": [
    "## 2) 모델 적합"
   ]
  },
  {
   "cell_type": "markdown",
   "id": "cbadc76f-f895-475b-895a-1daebeeda953",
   "metadata": {
    "tags": []
   },
   "source": [
    "- 하이퍼파라미터 지정"
   ]
  },
  {
   "cell_type": "code",
   "execution_count": 38,
   "id": "189c3a52-b576-4fc1-b687-74e7ce9019e5",
   "metadata": {},
   "outputs": [
    {
     "name": "stdout",
     "output_type": "stream",
     "text": [
      "26\n"
     ]
    }
   ],
   "source": [
    "scale_pos_weight = int( sum(y == 0) / sum(y==1) ); print(scale_pos_weight)"
   ]
  },
  {
   "cell_type": "code",
   "execution_count": 39,
   "id": "ee2ad32b-6c33-4992-94bf-adacec60ebb1",
   "metadata": {},
   "outputs": [],
   "source": [
    "params = {'objective' : 'binary:logistic', 'eval_metric' : 'auc', 'scale_pos_weight' : scale_pos_weight,\n",
    "          'max_depth' : 3, 'gamma' : 1, 'min_child_weight' : 5,\n",
    "          'subset': 0.7, 'colsample_bytree' : 1, 'eta' : 1,\n",
    "          'early_stoppings' : 5}\n",
    "num_rounds = 100"
   ]
  },
  {
   "cell_type": "markdown",
   "id": "b9133b4b-db31-483c-af63-ddeaa456a4d3",
   "metadata": {},
   "source": [
    "- 모델 적합"
   ]
  },
  {
   "cell_type": "code",
   "execution_count": 40,
   "id": "7b51c1a3-7686-4688-84e7-a6d06a10786a",
   "metadata": {},
   "outputs": [
    {
     "name": "stdout",
     "output_type": "stream",
     "text": [
      "[07:03:02] WARNING: C:/Users/Administrator/workspace/xgboost-win64_release_1.4.0/src/learner.cc:573: \n",
      "Parameters: { \"early_stoppings\", \"subset\" } might not be used.\n",
      "\n",
      "  This may not be accurate due to some parameters are only used in language bindings but\n",
      "  passed down to XGBoost core.  Or some parameters are not used but slip through this\n",
      "  verification. Please open an issue if you find above cases.\n",
      "\n",
      "\n",
      "[0]\ttrain-auc:0.76139\teval-auc:0.75987\n",
      "[10]\ttrain-auc:0.78473\teval-auc:0.78235\n",
      "[20]\ttrain-auc:0.78794\teval-auc:0.78553\n",
      "[30]\ttrain-auc:0.78965\teval-auc:0.78721\n",
      "[40]\ttrain-auc:0.79083\teval-auc:0.78830\n",
      "[50]\ttrain-auc:0.79185\teval-auc:0.78919\n",
      "[60]\ttrain-auc:0.79270\teval-auc:0.79022\n",
      "[70]\ttrain-auc:0.79349\teval-auc:0.79076\n",
      "[80]\ttrain-auc:0.79425\teval-auc:0.79170\n",
      "[90]\ttrain-auc:0.79500\teval-auc:0.79206\n",
      "[99]\ttrain-auc:0.79544\teval-auc:0.79227\n"
     ]
    }
   ],
   "source": [
    "xgb_model  = xgb.train(params = params, dtrain=dtrain, num_boost_round = num_rounds, evals=wlist, verbose_eval = 10)"
   ]
  },
  {
   "cell_type": "markdown",
   "id": "74754331-c695-4690-9f22-a3b7e389675c",
   "metadata": {},
   "source": [
    "# 5. 모델링 결과 및 검증"
   ]
  },
  {
   "cell_type": "markdown",
   "id": "8fac4d6a-fdce-43de-b707-6ab8167b99d1",
   "metadata": {},
   "source": [
    "- 예측 확률 산출"
   ]
  },
  {
   "cell_type": "code",
   "execution_count": 41,
   "id": "648da5fc-1075-492e-b5ed-2be060e17d33",
   "metadata": {},
   "outputs": [],
   "source": [
    "pred_proba = xgb_model.predict(dvalid)"
   ]
  },
  {
   "cell_type": "markdown",
   "id": "2592c49c-84a9-4380-b296-fc20cace413e",
   "metadata": {},
   "source": [
    "## 1) ROC 곡선"
   ]
  },
  {
   "cell_type": "code",
   "execution_count": 42,
   "id": "9a6bb163-536f-405d-a77d-05ac392f614f",
   "metadata": {
    "tags": []
   },
   "outputs": [
    {
     "data": {
      "image/png": "[encoded data removed]",
      "text/plain": [
       "<Figure size 432x288 with 1 Axes>"
      ]
     },
     "metadata": {
      "needs_background": "light"
     },
     "output_type": "display_data"
    }
   ],
   "source": [
    "ns_probs = [0 for _ in y_valid]\n",
    "\n",
    "ns_fpr, ns_tpr, _ = roc_curve(y_valid, ns_probs)\n",
    "lr_fpr, lr_tpr, thres = roc_curve(y_valid, pred_proba)\n",
    "\n",
    "plt.plot(ns_fpr, ns_tpr, linestyle='--', label='No Skill')\n",
    "plt.plot(lr_fpr, lr_tpr, marker='.', label='Xgboost')\n",
    "\n",
    "plt.xlabel('False Positive Rate')\n",
    "plt.ylabel('True Positive Rate')\n",
    "\n",
    "plt.legend()\n",
    "plt.show()"
   ]
  },
  {
   "cell_type": "code",
   "execution_count": 43,
   "id": "7aa9d421-ed41-4475-8418-386d1277ee84",
   "metadata": {},
   "outputs": [
    {
     "name": "stdout",
     "output_type": "stream",
     "text": [
      "AUC: 0.7880\n"
     ]
    }
   ],
   "source": [
    "AUC = roc_auc_score(y_valid, pred_proba)\n",
    "print('AUC: {:.4f}'.format(AUC))"
   ]
  },
  {
   "cell_type": "markdown",
   "id": "6e0932dd-1bd0-46bc-be38-ed8242e16c97",
   "metadata": {},
   "source": [
    "## 2) 평가지표 확인\n",
    "- threshold 값 : 0.5\n",
    "- 오차행렬(confusion matrix) 생성\n",
    "- 정확도, 정밀도, 재현율, F1 Score, AUC 값 산출"
   ]
  },
  {
   "cell_type": "code",
   "execution_count": 44,
   "id": "488dc99d-4293-4f26-9625-d9a2cc4ec9ab",
   "metadata": {},
   "outputs": [],
   "source": [
    "def get_clf_eval(y_test, y_pred):\n",
    "    confusion = confusion_matrix(y_test, y_pred); print('오차행렬:\\n', confusion)\n",
    "    accuracy = accuracy_score(y_test, y_pred); print('\\n정확도: {:.4f}'.format(accuracy))\n",
    "    precision = precision_score(y_test, y_pred); print('정밀도: {:.4f}'.format(precision))\n",
    "    recall = recall_score(y_test, y_pred); print('재현율: {:.4f}'.format(recall))\n",
    "    F1 = f1_score(y_test, y_pred); print('F1: {:.4f}'.format(F1))"
   ]
  },
  {
   "cell_type": "code",
   "execution_count": 45,
   "id": "50b9d37f-2dbd-4d08-9412-f0c6dd536447",
   "metadata": {},
   "outputs": [
    {
     "data": {
      "image/png": "[encoded data removed]",
      "text/plain": [
       "<Figure size 432x288 with 1 Axes>"
      ]
     },
     "metadata": {
      "needs_background": "light"
     },
     "output_type": "display_data"
    }
   ],
   "source": [
    "plt.hist(pred_proba, bins = 15)\n",
    "plt.show()"
   ]
  },
  {
   "cell_type": "code",
   "execution_count": 46,
   "id": "c483a744-94dc-4b24-a13c-b5c16ab18905",
   "metadata": {},
   "outputs": [
    {
     "name": "stdout",
     "output_type": "stream",
     "text": [
      "오차행렬:\n",
      " [[1281114  599513]\n",
      " [  18213   54256]]\n",
      "\n",
      "정확도: 0.6837\n",
      "정밀도: 0.0830\n",
      "재현율: 0.7487\n",
      "F1: 0.1494\n"
     ]
    }
   ],
   "source": [
    "preds = [ 1 if x > 0.5 else 0 for x in pred_proba]\n",
    "get_clf_eval(y_valid, preds)"
   ]
  },
  {
   "cell_type": "markdown",
   "id": "f53224db-253d-4c24-a50c-1830ac5d9716",
   "metadata": {},
   "source": [
    "## 3) 변수중요도 그림 (Importance Plot)"
   ]
  },
  {
   "cell_type": "code",
   "execution_count": 47,
   "id": "2b2ef4dc-111c-4676-b895-728b92e96541",
   "metadata": {},
   "outputs": [
    {
     "data": {
      "image/png": "[encoded data removed]",
      "text/plain": [
       "<Figure size 720x864 with 1 Axes>"
      ]
     },
     "metadata": {
      "needs_background": "light"
     },
     "output_type": "display_data"
    }
   ],
   "source": [
    "fig, ax = plt.subplots(figsize=(10, 12))\n",
    "plot_importance(xgb_model, ax=ax)\n",
    "plt.show()"
   ]
  }
 ],
 "metadata": {
  "kernelspec": {
   "display_name": "Python 3",
   "language": "python",
   "name": "python3"
  },
  "language_info": {
   "codemirror_mode": {
    "name": "ipython",
    "version": 3
   },
   "file_extension": ".py",
   "mimetype": "text/x-python",
   "name": "python",
   "nbconvert_exporter": "python",
   "pygments_lexer": "ipython3",
   "version": "3.7.10"
  }
 },
 "nbformat": 4,
 "nbformat_minor": 5
}
