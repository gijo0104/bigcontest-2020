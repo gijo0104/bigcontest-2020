{
 "cells": [
  {
   "cell_type": "markdown",
   "id": "90a2a5e1-1a42-450d-8838-df637a68bee7",
   "metadata": {},
   "source": [
    "- CURRENT_PATH : 가장 상위 폴더를 지정하면 됩니다."
   ]
  },
  {
   "cell_type": "code",
   "execution_count": 1,
   "id": "b735a0d9-6a43-4b6f-b7be-cacc4e3af4bd",
   "metadata": {},
   "outputs": [],
   "source": [
    "import os\n",
    "CURRENT_PATH = os.getcwd()"
   ]
  },
  {
   "cell_type": "markdown",
   "id": "afec0c5c-98e8-4b40-b91b-583c7e450e18",
   "metadata": {},
   "source": [
    "- 라이브러리 import 및 옵션 설정"
   ]
  },
  {
   "cell_type": "code",
   "execution_count": 2,
   "id": "cc972a33-ef8b-4d95-81be-8e574115f9ca",
   "metadata": {},
   "outputs": [],
   "source": [
    "import pandas as pd\n",
    "import numpy as np\n",
    "\n",
    "\n",
    "from IPython.display import display\n",
    "from tqdm import tqdm\n",
    "\n",
    "import matplotlib.pyplot as plt\n",
    "import matplotlib.font_manager as fm\n",
    "%matplotlib inline\n",
    "\n",
    "import re\n",
    "from datetime import date\n",
    "from datetime import datetime\n",
    "from datetime import timedelta\n",
    "\n",
    "# 데이터프레임에서 실수값 표시 옵션\n",
    "pd.options.display.float_format = '{:.2f}'.format\n",
    "# pd.reset_option('display.float_format')\n",
    "\n",
    "# plot에 한글 폰트 지정\n",
    "fm.get_fontconfig_fonts()\n",
    "font_path = CURRENT_PATH + '\\\\NanumSquareR.ttf'"
   ]
  },
  {
   "cell_type": "markdown",
   "id": "a36ad1ca-3080-4056-9014-6b2b7d9de855",
   "metadata": {},
   "source": [
    "# 1. 전처리"
   ]
  },
  {
   "cell_type": "markdown",
   "id": "91679bbd-dfcb-435a-9d6d-48ab48bc16ce",
   "metadata": {
    "tags": []
   },
   "source": [
    "## 0) data read"
   ]
  },
  {
   "cell_type": "code",
   "execution_count": 3,
   "id": "f2df52f1-5585-43b6-8847-6571c7768aa9",
   "metadata": {
    "tags": []
   },
   "outputs": [],
   "source": [
    "df_consumer = pd.read_csv( CURRENT_PATH + \"\\\\'21년 해카톤_고객정보.csv\", encoding = 'cp949')\n",
    "df_car = pd.read_csv( CURRENT_PATH + \"\\\\'21년 해카톤_차량정보.csv\", encoding = 'cp949')\n",
    "df_contact = pd.read_csv( CURRENT_PATH + \"\\\\'21년 해카톤_접촉정보.csv\", encoding = 'cp949')"
   ]
  },
  {
   "cell_type": "markdown",
   "id": "6f81957c-4d8d-4a22-94d5-eb9e2f0aa08e",
   "metadata": {},
   "source": [
    "## 1) 고객정보.csv"
   ]
  },
  {
   "cell_type": "markdown",
   "id": "9127fa49-a861-4a7b-b1b5-7610952c2f3f",
   "metadata": {},
   "source": [
    "### (1) 개인사업자 여부(PSN_BIZR_YN) : 결측치를 모두 'N'으로 수정\n",
    "- 결측치가 아닌 값은 모두 'Y' 입니다. (response ratio : 12.67%)\n",
    "- 따라서 결측치의 경우는 개인사업자가 아닌 것('N')으로 가정했습니다."
   ]
  },
  {
   "cell_type": "code",
   "execution_count": 4,
   "id": "c5cdcc28-d4c1-4099-93ea-e8f053bfc881",
   "metadata": {},
   "outputs": [],
   "source": [
    "df_consumer.PSN_BIZR_YN.replace(to_replace = np.nan, value = 'N', inplace = True)"
   ]
  },
  {
   "cell_type": "markdown",
   "id": "c64afed8-ec5f-4431-96a2-2129f8a52e4c",
   "metadata": {},
   "source": [
    "### (2) 생년월(TYMD) : 오류 데이터 결측치 처리 및 date 타입으로 형 변환\n",
    "- 태어난 연도가 2064년, 9999년인 경우는 결측치로 처리했습니다.\n",
    "- datetime 라이브러리의 datatime.date로 형 변환을 했습니다. (계산상의 이유)"
   ]
  },
  {
   "cell_type": "code",
   "execution_count": 5,
   "id": "60ed50e0-f304-4ae8-9a29-458039558a57",
   "metadata": {},
   "outputs": [],
   "source": [
    "df_consumer.loc[df_consumer.TYMD > 20640000, 'TYMD'] = np.nan"
   ]
  },
  {
   "cell_type": "code",
   "execution_count": 6,
   "id": "d6254365-6be9-4c9a-879c-491c6e9cc468",
   "metadata": {},
   "outputs": [],
   "source": [
    "def from_num_to_datetime(x): # 숫자를 date 타입으로 형 변환하는 함수\n",
    "    x = int(x)\n",
    "    y, m, d = x // 10000, (x//100) % 100, x % 100\n",
    "    return date(year = y, month = m, day = max(d, 1))\n",
    "df_consumer.loc[df_consumer.TYMD.notnull(), 'TYMD'] = df_consumer.loc[df_consumer.TYMD.notnull(), 'TYMD'].map(from_num_to_datetime)"
   ]
  },
  {
   "cell_type": "markdown",
   "id": "c1209afa-f6d7-409e-bcd9-7732efb9c404",
   "metadata": {},
   "source": [
    "## 2) 차량정보.csv"
   ]
  },
  {
   "cell_type": "markdown",
   "id": "1c8b409f-09a6-4ce2-a097-c78b6397dacf",
   "metadata": {},
   "source": [
    "### (1) 고객ID, 출고일자에 맞춰 정렬\n",
    "- 하나의 고객 ID 마다 시간 순으로 구매 현황을 파악하고 앞으로의 분리로직을 위해 정렬했습니다."
   ]
  },
  {
   "cell_type": "code",
   "execution_count": 7,
   "id": "fdf1c7d4-477b-4d61-ad13-418c8a718d1e",
   "metadata": {},
   "outputs": [],
   "source": [
    "df_car.sort_values(['CUS_ID', 'WHOT_DT'], inplace = True)\n",
    "df_car.reset_index(drop = True, inplace = True)"
   ]
  },
  {
   "cell_type": "markdown",
   "id": "46ae52a3-3a88-44a5-b165-6e37a5490a0a",
   "metadata": {},
   "source": [
    "### (2) 출고일자, 보유시작일자, 보유종료일자 모두 date 타입으로 형 변환"
   ]
  },
  {
   "cell_type": "code",
   "execution_count": 8,
   "id": "1736b611-97c6-4e73-b258-36f5f6d38b47",
   "metadata": {},
   "outputs": [],
   "source": [
    "df_car.WHOT_DT = df_car.WHOT_DT.map( from_num_to_datetime )\n",
    "df_car.CAR_HLDG_STRT_DT = df_car.CAR_HLDG_STRT_DT.map( from_num_to_datetime )\n",
    "df_car.loc[df_car.CAR_HLDG_FNH_DT.notnull(), 'CAR_HLDG_FNH_DT'] = df_car.loc[df_car.CAR_HLDG_FNH_DT.notnull(), 'CAR_HLDG_FNH_DT'].map(from_num_to_datetime)"
   ]
  },
  {
   "cell_type": "markdown",
   "id": "184bf34e-e99d-4a48-a75a-3d0090a0daf6",
   "metadata": {},
   "source": [
    "### (3) 차량등급명1 : '해당없음' -> '승용'으로 수정\n",
    "- 각 차명(CAR_NM)에 대해서 차량등급명1과 차량등급명2는 1개씩 존재합니다.\n",
    "- 하지만 차명이 '베르나', '클릭', '쏘나타'인 경우는 모두 차량등급명1이 '승용'과 '해당없음'만 존재하기 때문에 '해당없음'을 '승용'으로 수정했습니다."
   ]
  },
  {
   "cell_type": "code",
   "execution_count": 9,
   "id": "c4459011-2643-42c4-a296-a31913f9bbd3",
   "metadata": {},
   "outputs": [],
   "source": [
    "df_car.CAR_CGRD_NM_1.replace(to_replace = '해당없음', value = '승용', inplace = True)"
   ]
  },
  {
   "cell_type": "markdown",
   "id": "c59e4ed6-d4f0-478c-9c24-ae49d418f7ca",
   "metadata": {},
   "source": [
    "# 2. 재구매 유형 로직"
   ]
  },
  {
   "cell_type": "markdown",
   "id": "6758bf5f-2568-42f1-a0e4-51de4c2639ed",
   "metadata": {},
   "source": [
    "## 1) 고객별 섹션 생성\n",
    "- 섹션이란? 최초구매나 추가구매 이후 일련의 대차 과정을 하나로 묶은 단위\n",
    "- CUS_CAR_SCTN : 고객 차량 섹션\n",
    "  - 계산상의 이유로 보유종료일자의 결측치는 2099년 1월 1일로 지정하고 '고객 차량 섹션' 산출 후 다시 결측치로 바꿔줍니다.\n",
    "  - 각 관측치의 섹션 값은 Section_num 리스트에 저장 후 df_car 데이터에 저장합니다.\n",
    "  - 기존 보유하던 차량의 보유 종료일부터 standard_period일 전까지의 출고를 '대차'로 정의합니다. (본 분석에서는 standard_period = 30으로 지정)"
   ]
  },
  {
   "cell_type": "code",
   "execution_count": 10,
   "id": "f44e9a34-6e56-42c8-ad09-c5fbb5400b6f",
   "metadata": {},
   "outputs": [],
   "source": [
    "df_car.CAR_HLDG_FNH_DT.replace(np.nan, date(2099,1,1) , inplace = True)"
   ]
  },
  {
   "cell_type": "code",
   "execution_count": 11,
   "id": "c45b5aef-a1cf-4e51-9fed-62ef57bde0a8",
   "metadata": {},
   "outputs": [
    {
     "name": "stderr",
     "output_type": "stream",
     "text": [
      "100%|██████████████████████████████████████████████████████████████████████| 1096206/1096206 [05:09<00:00, 3544.18it/s]\n"
     ]
    }
   ],
   "source": [
    "Section_num, standard_period = [], 30\n",
    "for i, tmp_data in tqdm(df_car.groupby('CUS_ID')): # 각 고객ID별로 groupby된 데이터 : tmp_data로 사용\n",
    "    section_FNH_DT = np.array( [ tmp_data.iloc[0].CAR_HLDG_FNH_DT ] ) # 섹션별 보유종료일자 리스트 : section_FNH_DT, 최초구매 데이터로 초기화\n",
    "    Section_num.append( 1 ) # 최초 구매는 Section 1번으로 지정\n",
    "    for j in range(1, tmp_data.shape[0]):\n",
    "        if any( (section_FNH_DT - timedelta(days = standard_period) <= tmp_data.iloc[j].WHOT_DT )): # 이전 섹션의 (보유종료일자 - standard_period일) 이후의 출고는 대차로 지정\n",
    "            # 이전 섹션들 중 하나라도 대차일 후보가 정해지는 경우, 출고일자와 보유종료일자가 가장 가까운 섹션에 대차로 분류\n",
    "            tmp = section_FNH_DT[:] # 섹션별 보유종료일자 리스트 복사 후 출고일자와의 차이값 데이터 생성\n",
    "            tmp = np.array( [abs(x.days) for x in (tmp - tmp_data.iloc[j].WHOT_DT)] )\n",
    "            tmp[ (section_FNH_DT - timedelta(days = standard_period) > tmp_data.iloc[j].WHOT_DT ) ] = max(tmp) + 1 # (보유종료일자 - standard_period일) 이후의 출고인 섹션만 보기 위해서 나머지는 모두 최댓값 처리\n",
    "            section_num = np.argmin(tmp) # 출고일자와 가장 가까운 보유종료일자를 가진 섹션 산출\n",
    "            section_FNH_DT[ section_num ] = tmp_data.iloc[j].CAR_HLDG_FNH_DT # 섹션별 보유종료일자 리스트 최신화\n",
    "            Section_num.append( section_num + 1 ) # 해당 관측치에 대해 섹션 추가\n",
    "        else: # 이전 섹션들 중 하나라도 대차일 후보가 없는 경우, 추가구매로 분류\n",
    "            section_FNH_DT = np.append( section_FNH_DT, tmp_data.iloc[j].CAR_HLDG_FNH_DT ) # 추가구매의 경우 섹션별 보유종료일자 리스트에 새로운 섹션 추가\n",
    "            Section_num.append( len(section_FNH_DT) ) # 추가된 Section은 가장 마지막이므로 len 함수를 이용하여 지정"
   ]
  },
  {
   "cell_type": "code",
   "execution_count": 12,
   "id": "ca44ae18-bc44-4090-a278-e58c1eb04e49",
   "metadata": {},
   "outputs": [],
   "source": [
    "df_car.CAR_HLDG_FNH_DT.replace(date(2099,1,1), np.nan , inplace = True)"
   ]
  },
  {
   "cell_type": "code",
   "execution_count": 13,
   "id": "5d3fe221-33f2-40cd-a4a7-0679862dcc5b",
   "metadata": {},
   "outputs": [],
   "source": [
    "df_car['CUS_CAR_SCTN'] = Section_num\n",
    "del Section_num"
   ]
  },
  {
   "cell_type": "markdown",
   "id": "eb395e08-7e35-467e-875c-495768b12dd9",
   "metadata": {},
   "source": [
    "## 2) 고객 차량 섹션을 이용한 분리 로직\n",
    "- 각 고객별 섹션에서의 첫 구매는 추가구매이고 그 이후는 모두 대차입니다.\n",
    "- 단, 1섹션에서의 첫 구매는 최초구매입니다."
   ]
  },
  {
   "cell_type": "markdown",
   "id": "183f6e0a-49ea-4ca6-8746-df4a6e2f5abd",
   "metadata": {},
   "source": [
    "### (1) 고객ID, 고객 차량 섹션, 출고일자 기준으로 정렬합니다."
   ]
  },
  {
   "cell_type": "code",
   "execution_count": 14,
   "id": "d71a25d2-dd35-48d6-a964-a6d1989af989",
   "metadata": {},
   "outputs": [],
   "source": [
    "df_car.sort_values(['CUS_ID','CUS_CAR_SCTN','WHOT_DT'], inplace = True)"
   ]
  },
  {
   "cell_type": "markdown",
   "id": "cd42d7ac-3784-467c-b02c-bc758aa9e6f7",
   "metadata": {},
   "source": [
    "### (2) 각 고객별 섹션 내 구매 순서를 생성합니다."
   ]
  },
  {
   "cell_type": "code",
   "execution_count": 15,
   "id": "9ec31a4c-49f8-4b8d-8d77-3e33f7779117",
   "metadata": {},
   "outputs": [
    {
     "name": "stderr",
     "output_type": "stream",
     "text": [
      "100%|█████████████████████████████████████████████████████████████████████| 1390458/1390458 [00:27<00:00, 50277.59it/s]\n"
     ]
    }
   ],
   "source": [
    "num_in_Section = []\n",
    "for i, tmp_data in tqdm(df_car.groupby(['CUS_ID','CUS_CAR_SCTN'])):\n",
    "    num_in_Section.extend( range(1,tmp_data.shape[0]+1) )"
   ]
  },
  {
   "cell_type": "code",
   "execution_count": 16,
   "id": "8a7e0d60-1034-4967-a38a-384fcb220629",
   "metadata": {
    "tags": []
   },
   "outputs": [],
   "source": [
    "df_car['NUM_IN_SECTION'] = num_in_Section\n",
    "del num_in_Section"
   ]
  },
  {
   "cell_type": "markdown",
   "id": "2b85bd9e-da90-4f97-84c8-b7f820d4c731",
   "metadata": {},
   "source": [
    "### (3) 섹션 내 구매 순서가 1인 경우는 모두 추가구매(1), 아닌 경우는 대차(0)로 구분합니다.\n",
    "- 재구매 유형(Y) : 0일 경우 '대차', 1일 경우 '추가구매', 2일 경우 '최초구매'인 범주형 변수"
   ]
  },
  {
   "cell_type": "code",
   "execution_count": 17,
   "id": "ebe35f50-20fc-4459-b0b5-53106b08a8b6",
   "metadata": {},
   "outputs": [],
   "source": [
    "df_car['REPURCHASE_TYPE'] = 0"
   ]
  },
  {
   "cell_type": "code",
   "execution_count": 18,
   "id": "ca02a447-cd0c-46a2-99ae-97600381a09d",
   "metadata": {},
   "outputs": [],
   "source": [
    "df_car.loc[df_car.NUM_IN_SECTION == 1, 'REPURCHASE_TYPE'] = 1"
   ]
  },
  {
   "cell_type": "markdown",
   "id": "a3f09516-5eca-4d69-a100-9bd80eae92ff",
   "metadata": {},
   "source": [
    "### (4) 섹션 내 구매 순서가 1이면서 섹션 번호도 1인 경우는 최초구매(2)로 분리합니다."
   ]
  },
  {
   "cell_type": "code",
   "execution_count": 19,
   "id": "071854a3-531e-426e-ac70-861f7bfe5cb3",
   "metadata": {},
   "outputs": [],
   "source": [
    "df_car.loc[(df_car.NUM_IN_SECTION == 1) & (df_car.CUS_CAR_SCTN == 1), 'REPURCHASE_TYPE'] = 2"
   ]
  },
  {
   "cell_type": "markdown",
   "id": "9e090ab7-bbc5-427b-b9a5-c8723239fd1e",
   "metadata": {},
   "source": [
    "- 예측 모델링을 위해 차량정보 데이터를 저장합니다. (필요하면 주석 제거 후 사용)"
   ]
  },
  {
   "cell_type": "code",
   "execution_count": 20,
   "id": "2c3acbdb-7a64-4499-9375-fb7b2e637d72",
   "metadata": {},
   "outputs": [],
   "source": [
    "df_car.to_csv(CURRENT_PATH + '\\\\new_해카톤_차량정보.csv', index = False, encoding = 'cp949')"
   ]
  },
  {
   "cell_type": "markdown",
   "id": "5c84c707-dc10-4d1a-a5b8-b68dbddcba44",
   "metadata": {},
   "source": [
    "# 3. EDA"
   ]
  },
  {
   "cell_type": "markdown",
   "id": "af78ac45-dee6-4f52-8fa5-e7347ed2f50b",
   "metadata": {},
   "source": [
    "## 1) 고객정보와 차량정보 데이터 병합 : rdata"
   ]
  },
  {
   "cell_type": "code",
   "execution_count": 21,
   "id": "856afe63-a52e-4954-ae67-fee009c16262",
   "metadata": {
    "tags": []
   },
   "outputs": [],
   "source": [
    "rdata = pd.merge( df_car, df_consumer.loc[:,['CUS_ID','PSN_BIZR_YN','SEX_SCN_NM','TYMD']] , on = 'CUS_ID' )\n",
    "rdata.sort_values(['CUS_ID','WHOT_DT'], inplace = True)"
   ]
  },
  {
   "cell_type": "markdown",
   "id": "119debc9-4e93-4a51-8296-836afc45e245",
   "metadata": {},
   "source": [
    "- BUY_NUM : 구매순서\n",
    "- TOTAL_BUY_NUM : 총구매개수"
   ]
  },
  {
   "cell_type": "code",
   "execution_count": 22,
   "id": "b4980410-29de-4b19-94e3-50c3bd41a56d",
   "metadata": {
    "tags": []
   },
   "outputs": [
    {
     "name": "stderr",
     "output_type": "stream",
     "text": [
      "100%|█████████████████████████████████████████████████████████████████████| 1096206/1096206 [00:22<00:00, 48882.34it/s]\n"
     ]
    }
   ],
   "source": [
    "tmp, tmp1 = [], []\n",
    "for i, j in tqdm(rdata.groupby('CUS_ID').CUS_ID):\n",
    "    k = len(j)\n",
    "    tmp.extend( range(1, k+1) )\n",
    "    tmp1.append( k )\n",
    "\n",
    "rdata['BUY_NUM'] = tmp\n",
    "rdata['TOTAL_BUY_NUM'] = np.repeat(tmp1, tmp1)"
   ]
  },
  {
   "cell_type": "markdown",
   "id": "62ac1d22-b0ef-419f-a4ce-3df6f0c32bfb",
   "metadata": {},
   "source": [
    "- BUY_INTERVAL : 구매간격 (단위 : 일)"
   ]
  },
  {
   "cell_type": "code",
   "execution_count": 23,
   "id": "91e0db43-2b9a-47f4-bd16-5ca9d50d3caa",
   "metadata": {},
   "outputs": [],
   "source": [
    "tmp = np.array( list(map(lambda x : x.days, (rdata.WHOT_DT[1:].reset_index(drop = True) - rdata.CAR_HLDG_FNH_DT[:-1]))) )\n",
    "tmp = np.append( [np.nan], tmp)\n",
    "rdata['BUY_INTERVAL'] = tmp\n",
    "rdata.loc[rdata.BUY_NUM == 1, 'BUY_INTERVAL'] = np.nan"
   ]
  },
  {
   "cell_type": "code",
   "execution_count": 27,
   "id": "618dd3a6-ef8b-4274-9d64-83cad12eb480",
   "metadata": {},
   "outputs": [
    {
     "data": {
      "image/png": "[encoded data removed]",
      "text/plain": [
       "<Figure size 1080x360 with 2 Axes>"
      ]
     },
     "metadata": {
      "needs_background": "light"
     },
     "output_type": "display_data"
    }
   ],
   "source": [
    "plt.figure(figsize = (15,5))\n",
    "plt.subplot(121)\n",
    "plt.hist(rdata.BUY_INTERVAL, bins = 50)\n",
    "\n",
    "plt.subplot(122)\n",
    "plt.hist(rdata.BUY_INTERVAL[(-50 < rdata.BUY_INTERVAL) & (rdata.BUY_INTERVAL < 50)], bins = 50)\n",
    "\n",
    "plt.show()\n",
    "\n",
    "# plt.figure(figsize = (20,15))\n",
    "# plt.subplot(322)\n",
    "# plt.hist(rdata.BUY_INTERVAL[(-30 < rdata.BUY_INTERVAL) & (rdata.BUY_INTERVAL < 30)], bins = 50)\n",
    "    \n",
    "# plt.subplot(323)\n",
    "# plt.hist(rdata.BUY_INTERVAL[(-50 < rdata.BUY_INTERVAL) & (rdata.BUY_INTERVAL < 50)], bins = 50)\n",
    "\n",
    "# plt.subplot(324)\n",
    "# plt.hist(rdata.BUY_INTERVAL[(-100 < rdata.BUY_INTERVAL) & (rdata.BUY_INTERVAL < 100)], bins = 50)\n",
    "\n",
    "# plt.subplot(325)\n",
    "# plt.hist(rdata.BUY_INTERVAL[(-10 < rdata.BUY_INTERVAL) & (rdata.BUY_INTERVAL < 0)], bins = 50)\n",
    "\n",
    "# plt.subplot(326)\n",
    "# plt.hist(rdata.BUY_INTERVAL[(100 < rdata.BUY_INTERVAL)], bins = 50)\n",
    "\n",
    "# plt.show()"
   ]
  },
  {
   "cell_type": "markdown",
   "id": "25efecbb-44f3-45bf-b1e6-38d164cea924",
   "metadata": {},
   "source": [
    "- CAR_HAVE_PERIOD : 차량보유기간 (단위 : 개월수)\n",
    "  - 차량보유기간 = 보유종료일자 - 출고일자"
   ]
  },
  {
   "cell_type": "code",
   "execution_count": 28,
   "id": "d0218e85-e346-4b18-98f5-605b48ff9045",
   "metadata": {},
   "outputs": [
    {
     "name": "stdout",
     "output_type": "stream",
     "text": [
      "2000-01-04 2017-12-29\n",
      "2000-05-29 2017-12-30\n"
     ]
    }
   ],
   "source": [
    "print( rdata.WHOT_DT.min(), rdata.WHOT_DT.max() )\n",
    "print( min( rdata.loc[rdata.CAR_HLDG_FNH_DT.notnull(), 'CAR_HLDG_FNH_DT' ] ), max( rdata.loc[rdata.CAR_HLDG_FNH_DT.notnull(), 'CAR_HLDG_FNH_DT' ] ) )"
   ]
  },
  {
   "cell_type": "code",
   "execution_count": 29,
   "id": "7429cc8c-c0d0-4ec4-a6ef-4d1c0ef4948a",
   "metadata": {
    "tags": []
   },
   "outputs": [
    {
     "name": "stderr",
     "output_type": "stream",
     "text": [
      "C:\\Users\\gijo0\\.conda\\envs\\tf_cpu\\lib\\site-packages\\ipykernel_launcher.py:4: RuntimeWarning: invalid value encountered in floor_divide\n",
      "  after removing the cwd from sys.path.\n",
      "C:\\Users\\gijo0\\.conda\\envs\\tf_cpu\\lib\\site-packages\\ipykernel_launcher.py:4: RuntimeWarning: invalid value encountered in remainder\n",
      "  after removing the cwd from sys.path.\n"
     ]
    }
   ],
   "source": [
    "tmp = (rdata.CAR_HLDG_FNH_DT - rdata.WHOT_DT).map(lambda x: x.days).values\n",
    "tmp_minus_idx = tmp < 0\n",
    "tmp = abs(tmp)\n",
    "tmp = (tmp // 365) * 12 + (tmp % 365) // 30 + 1\n",
    "tmp[tmp_minus_idx] = - tmp[tmp_minus_idx]\n",
    "\n",
    "rdata['CAR_HAVE_PERIOD'] = tmp"
   ]
  },
  {
   "cell_type": "code",
   "execution_count": 30,
   "id": "21db8729-516b-4ba4-84b1-7f625e39e189",
   "metadata": {},
   "outputs": [
    {
     "data": {
      "image/png": "[encoded data removed]",
      "text/plain": [
       "<Figure size 1008x360 with 2 Axes>"
      ]
     },
     "metadata": {
      "needs_background": "light"
     },
     "output_type": "display_data"
    }
   ],
   "source": [
    "plt.figure(figsize = (14,5))\n",
    "\n",
    "plt.subplot(121)\n",
    "plt.hist(rdata.CAR_HAVE_PERIOD, bins = 20)\n",
    "plt.axvline(x=50, color='y', linewidth = 2)\n",
    "\n",
    "plt.subplot(122)\n",
    "plt.hist(rdata.CAR_HAVE_PERIOD[rdata.CAR_HAVE_PERIOD < 50], bins =15)\n",
    "\n",
    "plt.show()"
   ]
  },
  {
   "cell_type": "markdown",
   "id": "346c420d-763f-44ed-8120-9388eff17fd8",
   "metadata": {},
   "source": [
    "- '대차'인 경우와 '추가구매'인 경우에 차량보유기간의 차이가 있음을 알 수 있다.\n",
    "- '추가구매'의 경우 차량 보유기간이 더 길고"
   ]
  },
  {
   "cell_type": "code",
   "execution_count": 33,
   "id": "8ac13a23-40a6-4288-a9bd-fffd21d08eec",
   "metadata": {},
   "outputs": [
    {
     "data": {
      "image/png": "[encoded data removed]",
      "text/plain": [
       "<Figure size 1008x360 with 2 Axes>"
      ]
     },
     "metadata": {
      "needs_background": "light"
     },
     "output_type": "display_data"
    }
   ],
   "source": [
    "plt.figure(figsize = (14,5))\n",
    "\n",
    "plt.subplot(121)\n",
    "plt.hist(rdata.loc[rdata.REPURCHASE_TYPE == 0,'CAR_HAVE_PERIOD'], bins = 20)\n",
    "\n",
    "plt.subplot(122)\n",
    "plt.hist(rdata.loc[rdata.REPURCHASE_TYPE == 1,'CAR_HAVE_PERIOD'], bins = 20)\n",
    "\n",
    "plt.show()"
   ]
  },
  {
   "cell_type": "code",
   "execution_count": 32,
   "id": "f9e00e24-5d35-4d16-9ae1-e94844117496",
   "metadata": {},
   "outputs": [
    {
     "data": {
      "text/html": [
       "<div>\n",
       "<style scoped>\n",
       "    .dataframe tbody tr th:only-of-type {\n",
       "        vertical-align: middle;\n",
       "    }\n",
       "\n",
       "    .dataframe tbody tr th {\n",
       "        vertical-align: top;\n",
       "    }\n",
       "\n",
       "    .dataframe thead th {\n",
       "        text-align: right;\n",
       "    }\n",
       "</style>\n",
       "<table border=\"1\" class=\"dataframe\">\n",
       "  <thead>\n",
       "    <tr style=\"text-align: right;\">\n",
       "      <th></th>\n",
       "      <th>CAR_ID</th>\n",
       "      <th>CUS_ID</th>\n",
       "      <th>WHOT_DT</th>\n",
       "      <th>CAR_HLDG_STRT_DT</th>\n",
       "      <th>CAR_HLDG_FNH_DT</th>\n",
       "      <th>CAR_NM</th>\n",
       "      <th>CAR_CGRD_NM_1</th>\n",
       "      <th>CAR_CGRD_NM_2</th>\n",
       "      <th>CAR_ENG_NM</th>\n",
       "      <th>CAR_TRIM_NM</th>\n",
       "      <th>CUS_CAR_SCTN</th>\n",
       "      <th>NUM_IN_SECTION</th>\n",
       "      <th>REPURCHASE_TYPE</th>\n",
       "      <th>PSN_BIZR_YN</th>\n",
       "      <th>SEX_SCN_NM</th>\n",
       "      <th>TYMD</th>\n",
       "      <th>BUY_NUM</th>\n",
       "      <th>TOTAL_BUY_NUM</th>\n",
       "      <th>BUY_INTERVAL</th>\n",
       "      <th>CAR_HAVE_PERIOD</th>\n",
       "    </tr>\n",
       "  </thead>\n",
       "  <tbody>\n",
       "    <tr>\n",
       "      <th>0</th>\n",
       "      <td>H1308031441VP6U069690</td>\n",
       "      <td>AONEEOO010000113</td>\n",
       "      <td>2006-06-27</td>\n",
       "      <td>2006-06-27</td>\n",
       "      <td>2007-07-12</td>\n",
       "      <td>베르나</td>\n",
       "      <td>승용</td>\n",
       "      <td>소형</td>\n",
       "      <td>2007이전 데이터</td>\n",
       "      <td>2007이전 데이터</td>\n",
       "      <td>1</td>\n",
       "      <td>1</td>\n",
       "      <td>2</td>\n",
       "      <td>N</td>\n",
       "      <td>남자</td>\n",
       "      <td>1955-03-01</td>\n",
       "      <td>1</td>\n",
       "      <td>2</td>\n",
       "      <td>NaN</td>\n",
       "      <td>13.00</td>\n",
       "    </tr>\n",
       "    <tr>\n",
       "      <th>1</th>\n",
       "      <td>H1308060741EBBA077034</td>\n",
       "      <td>AONEEOO010000113</td>\n",
       "      <td>2011-08-01</td>\n",
       "      <td>2011-08-01</td>\n",
       "      <td>NaN</td>\n",
       "      <td>그랜저HG</td>\n",
       "      <td>승용</td>\n",
       "      <td>대형</td>\n",
       "      <td>가솔린 3.0</td>\n",
       "      <td>노블</td>\n",
       "      <td>1</td>\n",
       "      <td>2</td>\n",
       "      <td>0</td>\n",
       "      <td>N</td>\n",
       "      <td>남자</td>\n",
       "      <td>1955-03-01</td>\n",
       "      <td>2</td>\n",
       "      <td>2</td>\n",
       "      <td>1481.00</td>\n",
       "      <td>NaN</td>\n",
       "    </tr>\n",
       "    <tr>\n",
       "      <th>2</th>\n",
       "      <td>H1308052141BP5A053834</td>\n",
       "      <td>AONEEOO020000165</td>\n",
       "      <td>2005-02-26</td>\n",
       "      <td>2005-02-26</td>\n",
       "      <td>NaN</td>\n",
       "      <td>쏘나타</td>\n",
       "      <td>승용</td>\n",
       "      <td>중형</td>\n",
       "      <td>2007이전 데이터</td>\n",
       "      <td>2007이전 데이터</td>\n",
       "      <td>1</td>\n",
       "      <td>1</td>\n",
       "      <td>2</td>\n",
       "      <td>Y</td>\n",
       "      <td>남자</td>\n",
       "      <td>1951-10-01</td>\n",
       "      <td>1</td>\n",
       "      <td>2</td>\n",
       "      <td>NaN</td>\n",
       "      <td>NaN</td>\n",
       "    </tr>\n",
       "    <tr>\n",
       "      <th>3</th>\n",
       "      <td>H1308070241ABAU090781</td>\n",
       "      <td>AONEEOO020000165</td>\n",
       "      <td>2010-01-06</td>\n",
       "      <td>2010-01-06</td>\n",
       "      <td>NaN</td>\n",
       "      <td>제네시스</td>\n",
       "      <td>승용</td>\n",
       "      <td>대형</td>\n",
       "      <td>가솔린 3.3</td>\n",
       "      <td>Luxury</td>\n",
       "      <td>2</td>\n",
       "      <td>1</td>\n",
       "      <td>1</td>\n",
       "      <td>Y</td>\n",
       "      <td>남자</td>\n",
       "      <td>1951-10-01</td>\n",
       "      <td>2</td>\n",
       "      <td>2</td>\n",
       "      <td>NaN</td>\n",
       "      <td>NaN</td>\n",
       "    </tr>\n",
       "    <tr>\n",
       "      <th>4</th>\n",
       "      <td>H1308190381PP1U052991</td>\n",
       "      <td>AONEEOO020000170</td>\n",
       "      <td>2001-01-11</td>\n",
       "      <td>2001-01-11</td>\n",
       "      <td>2011-06-08</td>\n",
       "      <td>싼타페</td>\n",
       "      <td>RV</td>\n",
       "      <td>중형SUV</td>\n",
       "      <td>2007이전 데이터</td>\n",
       "      <td>2007이전 데이터</td>\n",
       "      <td>1</td>\n",
       "      <td>1</td>\n",
       "      <td>2</td>\n",
       "      <td>N</td>\n",
       "      <td>남자</td>\n",
       "      <td>1952-04-01</td>\n",
       "      <td>1</td>\n",
       "      <td>2</td>\n",
       "      <td>NaN</td>\n",
       "      <td>126.00</td>\n",
       "    </tr>\n",
       "  </tbody>\n",
       "</table>\n",
       "</div>"
      ],
      "text/plain": [
       "                  CAR_ID            CUS_ID     WHOT_DT CAR_HLDG_STRT_DT  \\\n",
       "0  H1308031441VP6U069690  AONEEOO010000113  2006-06-27       2006-06-27   \n",
       "1  H1308060741EBBA077034  AONEEOO010000113  2011-08-01       2011-08-01   \n",
       "2  H1308052141BP5A053834  AONEEOO020000165  2005-02-26       2005-02-26   \n",
       "3  H1308070241ABAU090781  AONEEOO020000165  2010-01-06       2010-01-06   \n",
       "4  H1308190381PP1U052991  AONEEOO020000170  2001-01-11       2001-01-11   \n",
       "\n",
       "  CAR_HLDG_FNH_DT CAR_NM CAR_CGRD_NM_1 CAR_CGRD_NM_2  CAR_ENG_NM CAR_TRIM_NM  \\\n",
       "0      2007-07-12    베르나            승용            소형  2007이전 데이터  2007이전 데이터   \n",
       "1             NaN  그랜저HG            승용            대형     가솔린 3.0          노블   \n",
       "2             NaN    쏘나타            승용            중형  2007이전 데이터  2007이전 데이터   \n",
       "3             NaN   제네시스            승용            대형     가솔린 3.3      Luxury   \n",
       "4      2011-06-08    싼타페            RV         중형SUV  2007이전 데이터  2007이전 데이터   \n",
       "\n",
       "   CUS_CAR_SCTN  NUM_IN_SECTION  REPURCHASE_TYPE PSN_BIZR_YN SEX_SCN_NM  \\\n",
       "0             1               1                2           N         남자   \n",
       "1             1               2                0           N         남자   \n",
       "2             1               1                2           Y         남자   \n",
       "3             2               1                1           Y         남자   \n",
       "4             1               1                2           N         남자   \n",
       "\n",
       "         TYMD  BUY_NUM  TOTAL_BUY_NUM  BUY_INTERVAL  CAR_HAVE_PERIOD  \n",
       "0  1955-03-01        1              2           NaN            13.00  \n",
       "1  1955-03-01        2              2       1481.00              NaN  \n",
       "2  1951-10-01        1              2           NaN              NaN  \n",
       "3  1951-10-01        2              2           NaN              NaN  \n",
       "4  1952-04-01        1              2           NaN           126.00  "
      ]
     },
     "execution_count": 32,
     "metadata": {},
     "output_type": "execute_result"
    }
   ],
   "source": [
    "rdata.head()"
   ]
  },
  {
   "cell_type": "markdown",
   "id": "515fec24-e213-4b6b-bdec-ca36603d7fa2",
   "metadata": {},
   "source": [
    "- WHOT_AGE : 출고일자기준 만나이"
   ]
  },
  {
   "cell_type": "code",
   "execution_count": 19,
   "id": "a6d900ce-2021-4e31-8dcf-75d8c53754cc",
   "metadata": {},
   "outputs": [
    {
     "name": "stderr",
     "output_type": "stream",
     "text": [
      "C:\\Users\\gijo0\\.conda\\envs\\tf_cpu\\lib\\site-packages\\ipykernel_launcher.py:2: RuntimeWarning: invalid value encountered in floor_divide\n",
      "  \n"
     ]
    }
   ],
   "source": [
    "tmp = np.array( list(map(lambda x : x.days, (rdata.WHOT_DT - rdata.TYMD))) )\n",
    "rdata['WHOT_AGE'] = (tmp // 365.25)"
   ]
  },
  {
   "cell_type": "code",
   "execution_count": null,
   "id": "9bf4c609-84c8-40be-830d-e94458ac4b14",
   "metadata": {},
   "outputs": [],
   "source": []
  },
  {
   "cell_type": "code",
   "execution_count": null,
   "id": "ceb31c42-cd28-4ba3-a845-bf805b67a6ae",
   "metadata": {},
   "outputs": [],
   "source": []
  },
  {
   "cell_type": "code",
   "execution_count": null,
   "id": "fd8c99db-2a02-452c-8ae5-9527d607e0e8",
   "metadata": {},
   "outputs": [],
   "source": []
  }
 ],
 "metadata": {
  "kernelspec": {
   "display_name": "Python 3",
   "language": "python",
   "name": "python3"
  },
  "language_info": {
   "codemirror_mode": {
    "name": "ipython",
    "version": 3
   },
   "file_extension": ".py",
   "mimetype": "text/x-python",
   "name": "python",
   "nbconvert_exporter": "python",
   "pygments_lexer": "ipython3",
   "version": "3.7.10"
  }
 },
 "nbformat": 4,
 "nbformat_minor": 5
}
